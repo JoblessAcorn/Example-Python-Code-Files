{
 "cells": [
  {
   "cell_type": "code",
   "execution_count": 1,
   "id": "492063a0-3289-4160-a39d-0c10f1331396",
   "metadata": {
    "tags": []
   },
   "outputs": [
    {
     "name": "stdout",
     "output_type": "stream",
     "text": [
      "Defaulting to user installation because normal site-packages is not writeable\n",
      "Requirement already satisfied: praw in c:\\users\\damian\\appdata\\roaming\\python\\python311\\site-packages (7.7.1)\n",
      "Requirement already satisfied: prawcore<3,>=2.1 in c:\\users\\damian\\appdata\\roaming\\python\\python311\\site-packages (from praw) (2.4.0)\n",
      "Requirement already satisfied: update-checker>=0.18 in c:\\users\\damian\\appdata\\roaming\\python\\python311\\site-packages (from praw) (0.18.0)\n",
      "Requirement already satisfied: websocket-client>=0.54.0 in c:\\programdata\\anaconda3\\lib\\site-packages (from praw) (0.58.0)\n",
      "Requirement already satisfied: requests<3.0,>=2.6.0 in c:\\programdata\\anaconda3\\lib\\site-packages (from prawcore<3,>=2.1->praw) (2.31.0)\n",
      "Requirement already satisfied: six in c:\\programdata\\anaconda3\\lib\\site-packages (from websocket-client>=0.54.0->praw) (1.16.0)\n",
      "Requirement already satisfied: charset-normalizer<4,>=2 in c:\\programdata\\anaconda3\\lib\\site-packages (from requests<3.0,>=2.6.0->prawcore<3,>=2.1->praw) (2.0.4)\n",
      "Requirement already satisfied: idna<4,>=2.5 in c:\\programdata\\anaconda3\\lib\\site-packages (from requests<3.0,>=2.6.0->prawcore<3,>=2.1->praw) (3.4)\n",
      "Requirement already satisfied: urllib3<3,>=1.21.1 in c:\\programdata\\anaconda3\\lib\\site-packages (from requests<3.0,>=2.6.0->prawcore<3,>=2.1->praw) (1.26.16)\n",
      "Requirement already satisfied: certifi>=2017.4.17 in c:\\programdata\\anaconda3\\lib\\site-packages (from requests<3.0,>=2.6.0->prawcore<3,>=2.1->praw) (2023.11.17)\n",
      "Note: you may need to restart the kernel to use updated packages.\n"
     ]
    }
   ],
   "source": [
    "pip install praw"
   ]
  },
  {
   "cell_type": "code",
   "execution_count": 275,
   "id": "e4737388-03c8-43bd-a92a-3723ea704799",
   "metadata": {
    "tags": []
   },
   "outputs": [
    {
     "data": {
      "text/html": [
       "<div>\n",
       "<style scoped>\n",
       "    .dataframe tbody tr th:only-of-type {\n",
       "        vertical-align: middle;\n",
       "    }\n",
       "\n",
       "    .dataframe tbody tr th {\n",
       "        vertical-align: top;\n",
       "    }\n",
       "\n",
       "    .dataframe thead th {\n",
       "        text-align: right;\n",
       "    }\n",
       "</style>\n",
       "<table border=\"1\" class=\"dataframe\">\n",
       "  <thead>\n",
       "    <tr style=\"text-align: right;\">\n",
       "      <th></th>\n",
       "      <th>Post ID</th>\n",
       "      <th>Post Title</th>\n",
       "      <th>Num Comments</th>\n",
       "      <th>Upvote Ratio</th>\n",
       "    </tr>\n",
       "  </thead>\n",
       "  <tbody>\n",
       "    <tr>\n",
       "      <th>0</th>\n",
       "      <td>1c9xb22</td>\n",
       "      <td>Turning point in my journey: My crappy $15 pil...</td>\n",
       "      <td>6</td>\n",
       "      <td>0.96</td>\n",
       "    </tr>\n",
       "    <tr>\n",
       "      <th>1</th>\n",
       "      <td>1cahanh</td>\n",
       "      <td>Doctor says I don't have hearing damage so it'...</td>\n",
       "      <td>0</td>\n",
       "      <td>1.00</td>\n",
       "    </tr>\n",
       "    <tr>\n",
       "      <th>2</th>\n",
       "      <td>1cahbxj</td>\n",
       "      <td>Dating and T</td>\n",
       "      <td>0</td>\n",
       "      <td>1.00</td>\n",
       "    </tr>\n",
       "    <tr>\n",
       "      <th>3</th>\n",
       "      <td>1cakghb</td>\n",
       "      <td>Experience with specialists</td>\n",
       "      <td>0</td>\n",
       "      <td>1.00</td>\n",
       "    </tr>\n",
       "    <tr>\n",
       "      <th>4</th>\n",
       "      <td>1cak396</td>\n",
       "      <td>Fleeting Tinnitus - Your Experience</td>\n",
       "      <td>0</td>\n",
       "      <td>1.00</td>\n",
       "    </tr>\n",
       "  </tbody>\n",
       "</table>\n",
       "</div>"
      ],
      "text/plain": [
       "   Post ID                                         Post Title  Num Comments  \\\n",
       "0  1c9xb22  Turning point in my journey: My crappy $15 pil...             6   \n",
       "1  1cahanh  Doctor says I don't have hearing damage so it'...             0   \n",
       "2  1cahbxj                                       Dating and T             0   \n",
       "3  1cakghb                        Experience with specialists             0   \n",
       "4  1cak396                Fleeting Tinnitus - Your Experience             0   \n",
       "\n",
       "   Upvote Ratio  \n",
       "0          0.96  \n",
       "1          1.00  \n",
       "2          1.00  \n",
       "3          1.00  \n",
       "4          1.00  "
      ]
     },
     "execution_count": 275,
     "metadata": {},
     "output_type": "execute_result"
    }
   ],
   "source": [
    "import praw\n",
    "import numpy as np\n",
    "\n",
    "clientID = 'ZPtt2qKINOTtePDo2gxXxw'\n",
    "secretKEY = '9ObZ47BHnAlKAn8pBAnFCNfVQDf60A'\n",
    "userName = 'GigaChadicus69'\n",
    "subReddit = 'tinnitus'\n",
    "\n",
    "redditBot = praw.Reddit(client_id=clientID, client_secret=secretKEY, user_agent=userName)\n",
    "subredditBot = redditBot.subreddit(subReddit)\n",
    "#for post in subredditBot.new():\n",
    "    #print(post.title)\n",
    "\n",
    "import pandas as pd\n",
    "post_IDs = []\n",
    "post_Titles = []\n",
    "post_Authors = []\n",
    "post_NumComments = []\n",
    "post_UpvoteRatio = []\n",
    "for post in subredditBot.new():\n",
    "    post_IDs.append(post.id)\n",
    "    post_Titles.append(post.title)\n",
    "    post_NumComments.append(post.num_comments)\n",
    "    post_UpvoteRatio.append(post.upvote_ratio)\n",
    "    \n",
    "final_Data = {'Post ID': post_IDs,'Post Title': post_Titles,'Num Comments': post_NumComments,'Upvote Ratio':post_UpvoteRatio}\n",
    "general_df = pd.DataFrame(final_Data)\n",
    "general_df.head()\n",
    "# Dprint(general_df.describe())"
   ]
  },
  {
   "cell_type": "code",
   "execution_count": 206,
   "id": "a0db18a9-b79f-4a1f-84d1-4b382c4af0c8",
   "metadata": {
    "tags": []
   },
   "outputs": [],
   "source": [
    "# soured Reddit scrapping bot library from https://www.codespeedy.com/subreddits-posts-extraction-using-python/#:~:text=Extract%20posts%20from%20any%20subreddit%20in%20Python%20using,Posts%20using%20praw%20library%20...%203%20Conclusion%20\n",
    "# modified the bot as nessisary to our needs\n",
    "# registerd as webdeveloper for Reddit and accessed their API so that bot could scrape posts \n",
    "# post author names were intentionally excluded to respect their aninimoty\n",
    "# prawr methods found in documentation here: https://praw.readthedocs.io/en/stable/index.html\n",
    "\n"
   ]
  },
  {
   "cell_type": "code",
   "execution_count": 246,
   "id": "fa136ddc-b62b-4dd4-99dd-c0d86de7da3e",
   "metadata": {
    "tags": []
   },
   "outputs": [
    {
     "data": {
      "text/html": [
       "<div>\n",
       "<style scoped>\n",
       "    .dataframe tbody tr th:only-of-type {\n",
       "        vertical-align: middle;\n",
       "    }\n",
       "\n",
       "    .dataframe tbody tr th {\n",
       "        vertical-align: top;\n",
       "    }\n",
       "\n",
       "    .dataframe thead th {\n",
       "        text-align: right;\n",
       "    }\n",
       "</style>\n",
       "<table border=\"1\" class=\"dataframe\">\n",
       "  <thead>\n",
       "    <tr style=\"text-align: right;\">\n",
       "      <th></th>\n",
       "      <th>Title</th>\n",
       "      <th>Text</th>\n",
       "    </tr>\n",
       "  </thead>\n",
       "  <tbody>\n",
       "    <tr>\n",
       "      <th>0</th>\n",
       "      <td>Scared as hell - Help?</td>\n",
       "      <td>Two weeks ago, I started to have ringing in my...</td>\n",
       "    </tr>\n",
       "    <tr>\n",
       "      <th>1</th>\n",
       "      <td>Going to an event 27 SNR Customs</td>\n",
       "      <td>You reckon this is alright? Or not good? Got t...</td>\n",
       "    </tr>\n",
       "    <tr>\n",
       "      <th>2</th>\n",
       "      <td>I don't know how many years I can take this.</td>\n",
       "      <td>I began noticing ringing in my right ear. It's...</td>\n",
       "    </tr>\n",
       "    <tr>\n",
       "      <th>3</th>\n",
       "      <td>Nerve-artery collision</td>\n",
       "      <td>Hi\\nI recently got an MRI Due to tinnitus. Her...</td>\n",
       "    </tr>\n",
       "    <tr>\n",
       "      <th>4</th>\n",
       "      <td>on top of having tinnitus, god decided to fuck...</td>\n",
       "      <td>i dont know waht the fuck is causing the tinni...</td>\n",
       "    </tr>\n",
       "  </tbody>\n",
       "</table>\n",
       "</div>"
      ],
      "text/plain": [
       "                                               Title  \\\n",
       "0                             Scared as hell - Help?   \n",
       "1                   Going to an event 27 SNR Customs   \n",
       "2       I don't know how many years I can take this.   \n",
       "3                             Nerve-artery collision   \n",
       "4  on top of having tinnitus, god decided to fuck...   \n",
       "\n",
       "                                                Text  \n",
       "0  Two weeks ago, I started to have ringing in my...  \n",
       "1  You reckon this is alright? Or not good? Got t...  \n",
       "2  I began noticing ringing in my right ear. It's...  \n",
       "3  Hi\\nI recently got an MRI Due to tinnitus. Her...  \n",
       "4  i dont know waht the fuck is causing the tinni...  "
      ]
     },
     "execution_count": 246,
     "metadata": {},
     "output_type": "execute_result"
    }
   ],
   "source": [
    "posts_data = []\n",
    "\n",
    "for post in subredditBot.new():\n",
    "    title = post.title\n",
    "    text = post.selftext\n",
    "    posts_data.append({\"Title\": title, \"Text\": text})\n",
    "    \n",
    "posts_df = pd.DataFrame(posts_data)\n",
    "posts_df.head()"
   ]
  },
  {
   "cell_type": "code",
   "execution_count": 207,
   "id": "40d2e8cd-9e20-4297-889d-e1f809ed8df4",
   "metadata": {
    "tags": []
   },
   "outputs": [],
   "source": [
    "# created dataframe that contains the words within the posts and their titles from web scrapper"
   ]
  },
  {
   "cell_type": "code",
   "execution_count": 247,
   "id": "a475e2ee-a0f7-41dc-b845-3fcd6d7093ec",
   "metadata": {
    "tags": []
   },
   "outputs": [
    {
     "name": "stdout",
     "output_type": "stream",
     "text": [
      "<class 'str'>\n",
      "Going to an event 27 SNR Customs You reckon this is alright? Or not good? Got the highest silicon customs\n"
     ]
    }
   ],
   "source": [
    "def print_post(index):\n",
    "    post_title = str(posts_df.iloc[index][\"Title\"])\n",
    "    post_text = str(posts_df.iloc[index][\"Text\"])\n",
    "    post_content = post_title + \" \" + post_text\n",
    "    return post_content\n",
    "\n",
    "post_content = print_post(1)\n",
    "print(type(post_content))\n",
    "print(post_content)"
   ]
  },
  {
   "cell_type": "code",
   "execution_count": 208,
   "id": "916a6b10-97a3-4b4d-aad7-577eecac3b64",
   "metadata": {
    "tags": []
   },
   "outputs": [],
   "source": [
    "# created this funtion to print the text of any indivdaul post that was scrapped"
   ]
  },
  {
   "cell_type": "code",
   "execution_count": 248,
   "id": "de19489e-33ad-4b3c-b8a1-f4f00c7c1201",
   "metadata": {},
   "outputs": [
    {
     "data": {
      "text/html": [
       "<div>\n",
       "<style scoped>\n",
       "    .dataframe tbody tr th:only-of-type {\n",
       "        vertical-align: middle;\n",
       "    }\n",
       "\n",
       "    .dataframe tbody tr th {\n",
       "        vertical-align: top;\n",
       "    }\n",
       "\n",
       "    .dataframe thead th {\n",
       "        text-align: right;\n",
       "    }\n",
       "</style>\n",
       "<table border=\"1\" class=\"dataframe\">\n",
       "  <thead>\n",
       "    <tr style=\"text-align: right;\">\n",
       "      <th></th>\n",
       "      <th>Post ID</th>\n",
       "      <th>Comments</th>\n",
       "    </tr>\n",
       "  </thead>\n",
       "  <tbody>\n",
       "    <tr>\n",
       "      <th>0</th>\n",
       "      <td>1caitti</td>\n",
       "      <td>[]</td>\n",
       "    </tr>\n",
       "    <tr>\n",
       "      <th>1</th>\n",
       "      <td>1cai99g</td>\n",
       "      <td>[Just want to know, its an outdoor event in te...</td>\n",
       "    </tr>\n",
       "    <tr>\n",
       "      <th>2</th>\n",
       "      <td>1cai4hn</td>\n",
       "      <td>[]</td>\n",
       "    </tr>\n",
       "    <tr>\n",
       "      <th>3</th>\n",
       "      <td>1cahj5v</td>\n",
       "      <td>[]</td>\n",
       "    </tr>\n",
       "    <tr>\n",
       "      <th>4</th>\n",
       "      <td>1cagx7u</td>\n",
       "      <td>[i just went to ENT for low humming in my righ...</td>\n",
       "    </tr>\n",
       "  </tbody>\n",
       "</table>\n",
       "</div>"
      ],
      "text/plain": [
       "   Post ID                                           Comments\n",
       "0  1caitti                                                 []\n",
       "1  1cai99g  [Just want to know, its an outdoor event in te...\n",
       "2  1cai4hn                                                 []\n",
       "3  1cahj5v                                                 []\n",
       "4  1cagx7u  [i just went to ENT for low humming in my righ..."
      ]
     },
     "execution_count": 248,
     "metadata": {},
     "output_type": "execute_result"
    }
   ],
   "source": [
    "comments_data = []\n",
    "\n",
    "for post in subredditBot.new():\n",
    "    post_comments = []\n",
    "    post.comments.replace_more(limit=None)\n",
    "    for comment in post.comments.list():\n",
    "        comment_text = comment.body\n",
    "        post_comments.append(comment_text)\n",
    "    comments_data.append({\"Post ID\": post.id, \"Comments\": post_comments})\n",
    "\n",
    "comments_df = pd.DataFrame(comments_data)\n",
    "comments_df.head()"
   ]
  },
  {
   "cell_type": "code",
   "execution_count": 209,
   "id": "96411a18-d3c0-414a-b586-b039db9d33da",
   "metadata": {},
   "outputs": [],
   "source": [
    "# created dataframe that contains a list of all comments tied to each post for every post"
   ]
  },
  {
   "cell_type": "code",
   "execution_count": 251,
   "id": "c9e631ac-d5fb-4c4d-ad6c-27c47afdcab7",
   "metadata": {
    "tags": []
   },
   "outputs": [
    {
     "name": "stdout",
     "output_type": "stream",
     "text": [
      "i just went to ENT for low humming in my right ear and he said it was likely because the upper back neck muscles are locked up. I sit hunched all day so this makes sense. I also have neck issues because i am a stomach sleeper and am at chiro often. better posture, stretching, and excercises will cure. Damn dude, I'm dealing with tinnitus in my left ear (paired with pressure changes, etc) and I do the same things.  I slump over my desk all day, clench the hell out of my jaw and play with my dentures, and my head is always drooped towards the computer screen.  The first ENT I saw didnt help me at all.\n"
     ]
    }
   ],
   "source": [
    "def print_comments(index):\n",
    "    post_comments = []\n",
    "    i = 0\n",
    "    for post in subredditBot.new(limit = None):\n",
    "        if i == index:\n",
    "            post.comments.replace_more(limit = None)\n",
    "            for comment in post.comments.list():\n",
    "                comment_text = comment.body\n",
    "                post_comments.append(comment_text)\n",
    "            all_comments = ' '.join(post_comments)\n",
    "            return all_comments\n",
    "        i += 1 # how to itterate over a sequence in a loop found on https://stackoverflow.com/questions/760753/iterate-over-a-python-sequence-in-multiples-of-n\n",
    "    return \"Index Domain Error\" \n",
    "\n",
    "\n",
    "comments_content = print_comments(4)\n",
    "print(comments_content)"
   ]
  },
  {
   "cell_type": "code",
   "execution_count": 210,
   "id": "dbf728af-eb12-484f-bea1-1e40dc4112c1",
   "metadata": {
    "tags": []
   },
   "outputs": [],
   "source": [
    "# similarly to earlier, this function serves to post all the comments tied to any post of interest."
   ]
  },
  {
   "cell_type": "code",
   "execution_count": 202,
   "id": "b8894ccf-d71b-48d0-bf04-96bc8a99918e",
   "metadata": {
    "tags": []
   },
   "outputs": [],
   "source": [
    "for index_value in range(100):\n",
    "    post_content = print_post(index_value)\n",
    "    comments_content = print_comments(index_value)\n",
    "    net_string_output = post_content + \" \" + comments_content\n",
    "    #print(net_string_output)"
   ]
  },
  {
   "cell_type": "code",
   "execution_count": 213,
   "id": "de8d7c9b-7718-4bc9-a13e-334b003f935c",
   "metadata": {
    "tags": []
   },
   "outputs": [],
   "source": [
    "# code blows up my computer if printed lol ;)\n",
    "# generated a single string output that contains the text of all the post titles, post content, and comment content out of the 100 scrapped posts"
   ]
  },
  {
   "cell_type": "code",
   "execution_count": 252,
   "id": "e75bfb54-9f56-4bcd-ac38-1401e6e0ab60",
   "metadata": {
    "tags": []
   },
   "outputs": [
    {
     "name": "stdout",
     "output_type": "stream",
     "text": [
      "nerve-artery collision hi\n",
      "i recently got an mri due to tinnitus. here findings with close proximity/collision of artery (pica) and vestibulocochlear nerve in transition zone on the same side. anyone else got this? relation to tinnitus? what to expect?? thanks! i just went to ent for low humming in my right ear and he said it was likely because the upper back neck muscles are locked up. i sit hunched all day so this makes sense. i also have neck issues because i am a stomach sleeper and am at chiro often. better posture, stretching, and excercises will cure. damn dude, i'm dealing with tinnitus in my left ear (paired with pressure changes, etc) and i do the same things.  i slump over my desk all day, clench the hell out of my jaw and play with my dentures, and my head is always drooped towards the computer screen.  the first ent i saw didnt help me at all.\n"
     ]
    }
   ],
   "source": [
    "index_value = 3  \n",
    "post_content = print_post(index_value)\n",
    "individual_string_outputs = print_comments(index_value)\n",
    "individual_string_outputs = post_content.lower() + \" \" + comments_content.lower()\n",
    "\n",
    "print(individual_string_outputs)"
   ]
  },
  {
   "cell_type": "code",
   "execution_count": 215,
   "id": "3c0b00bf-0b58-4a99-83b4-9a533339711a",
   "metadata": {
    "tags": []
   },
   "outputs": [],
   "source": [
    "# this code allows me to print the title, comment(s), and post text tied to one post as a string output\n",
    "# and standardizing the casing of the outputs here with .lower() redecue errors as the outputs are fed into classification tools later. "
   ]
  },
  {
   "cell_type": "code",
   "execution_count": 253,
   "id": "839f13b1-9f2d-4b8c-b226-123cba95055e",
   "metadata": {
    "tags": []
   },
   "outputs": [
    {
     "name": "stdout",
     "output_type": "stream",
     "text": [
      "[0, 0, -1, -1, 0, 1]\n",
      "[0, 0, 0, 0, 0, 0]\n",
      "[0, 0, 0, 0, 0, 0]\n",
      "[0, 0, 0, 0, 0, 0]\n",
      "[0, 0, 0, 0, 0, 0]\n",
      "[0, 0, 0, 0, 1, 0]\n",
      "[0, 0, 0, 0, 0, 0]\n",
      "[0, 0, 0, 0, 0, 0]\n",
      "[0, 0, 0, 0, 0, 0]\n",
      "[0, 0, 0, 0, 0, 0]\n",
      "[0, 0, 0, 0, 0, 0]\n",
      "[0, 0, 0, 0, 0, 0]\n",
      "[0, 0, -1, 0, 0, 0]\n",
      "[0, 0, 0, 0, 0, 0]\n",
      "[0, 0, 0, 0, 0, 0]\n",
      "[-1, 0, -1, 0, 0, 1]\n",
      "[0, 0, -1, 0, 0, 0]\n",
      "[0, 0, 0, 0, 0, 0]\n",
      "[0, 0, -1, -1, 1, 0]\n",
      "[0, 0, 0, 0, 0, 0]\n",
      "[0, 0, 0, 0, 0, 0]\n",
      "[0, 0, 0, 0, 0, 0]\n",
      "[0, 0, 0, 0, 0, 0]\n",
      "[-1, 0, -1, 0, 0, 1]\n",
      "[-1, 0, -1, 0, 1, 0]\n",
      "[0, 0, 0, 0, 0, 0]\n",
      "[0, 0, -1, -1, 0, 0]\n",
      "[0, -1, 0, 0, 0, 0]\n",
      "[0, 0, 0, 0, 0, 0]\n",
      "[-1, 0, 0, 0, 0, 1]\n",
      "[0, 0, -1, 0, 1, 0]\n",
      "[0, 0, 0, 0, 0, 0]\n",
      "[-1, 0, 0, -1, 0, 0]\n",
      "[0, 0, 0, -1, 0, 0]\n",
      "[0, 0, 0, 0, 1, 0]\n",
      "[-1, 0, -1, -1, 0, 1]\n",
      "[0, 0, 0, 0, 1, 0]\n",
      "[0, 0, 0, 0, 0, 0]\n",
      "[0, 0, 0, 0, 0, 0]\n",
      "[0, 0, -1, 0, 1, 0]\n",
      "[0, 0, -1, 0, 1, 0]\n",
      "[-1, 0, -1, 0, 1, 1]\n",
      "[0, 0, -1, -1, 0, 0]\n",
      "[0, 0, -1, -1, 1, 0]\n",
      "[0, 0, 0, 0, 0, 0]\n",
      "[0, 0, 0, 0, 0, 0]\n",
      "[0, 0, 0, 0, 0, 0]\n",
      "[0, 0, -1, 0, 0, 0]\n",
      "[0, 0, 0, -1, 0, 1]\n",
      "[0, 0, 0, 0, 1, 0]\n",
      "[0, 0, -1, 0, 0, 0]\n",
      "[0, -1, -1, 0, 0, 0]\n",
      "[0, 0, 0, 0, 0, 0]\n",
      "[0, 0, -1, 0, 1, 0]\n",
      "[0, 0, 0, 0, 0, 0]\n",
      "[0, 0, 0, 0, 0, 0]\n",
      "[0, 0, 0, 0, 0, 1]\n",
      "[-1, 0, -1, 0, 1, 0]\n",
      "[0, 0, 0, 0, 0, 0]\n",
      "[0, -1, 0, 0, 1, 1]\n",
      "[0, 0, -1, 0, 0, 1]\n",
      "[0, 0, 0, 0, 0, 0]\n",
      "[-1, 0, 0, -1, 0, 0]\n",
      "[0, 0, 0, 0, 0, 0]\n",
      "[-1, 0, 0, 0, 0, 0]\n",
      "[0, 0, -1, 0, 1, 1]\n",
      "[0, 0, 0, 0, 1, 1]\n",
      "[0, 0, 0, 0, 0, 0]\n",
      "[-1, 0, -1, -1, 0, 1]\n",
      "[0, -1, -1, 0, 0, 1]\n",
      "[0, 0, 0, 0, 0, 0]\n",
      "[-1, -1, -1, -1, 1, 1]\n",
      "[-1, 0, 0, 0, 0, 0]\n",
      "[0, -1, -1, 0, 1, 0]\n",
      "[0, 0, -1, 0, 1, 1]\n",
      "[0, 0, 0, 0, 0, 0]\n",
      "[-1, 0, -1, 0, 0, 0]\n",
      "[0, 0, 0, 0, 0, 0]\n",
      "[-1, -1, 0, 0, 0, 0]\n",
      "[0, 0, 0, 0, 0, 0]\n",
      "[-1, -1, -1, 0, 0, 0]\n",
      "[0, 0, 0, 0, 0, 0]\n",
      "[0, 0, 0, 0, 0, 0]\n",
      "[0, 0, 0, 0, 0, 0]\n",
      "[0, 0, 0, 0, 1, 0]\n",
      "[0, 0, 0, 0, 0, 0]\n",
      "[0, 0, 0, 0, 0, 0]\n",
      "[0, 0, 0, 0, 0, 0]\n",
      "[0, 0, 0, 0, 0, 1]\n",
      "[0, 0, 0, 0, 0, 0]\n",
      "[0, 0, 0, 0, 0, 0]\n",
      "[0, 0, 0, 0, 0, 0]\n",
      "[0, 0, 0, 0, 0, 0]\n",
      "[0, 0, 0, 0, 0, 0]\n",
      "[-1, 0, 0, 0, 0, 0]\n",
      "[0, 0, 0, 0, 0, 0]\n",
      "[0, 0, 0, 0, 0, 0]\n",
      "[-1, 0, -1, -1, 0, 0]\n",
      "[-1, 0, 0, 0, 0, 0]\n",
      "[0, 0, 0, 0, 0, 1]\n"
     ]
    }
   ],
   "source": [
    "keyword_results = []\n",
    "\n",
    "for index_value in range(100):\n",
    "    post_content = print_post(index_value)\n",
    "    comments_content = print_comments(index_value)\n",
    "    net_string_output = post_content + \" \" + comments_content\n",
    "\n",
    "    # Initialize lists for each condition evaluation\n",
    "    list_for_thread_1 = []\n",
    "    list_for_thread_2 = []\n",
    "    list_for_thread_3 = []\n",
    "    list_for_thread_4 = []\n",
    "    list_for_thread_5 = []\n",
    "    list_for_thread_6 = []\n",
    "\n",
    "    # List 1: Keywords related to suicidal thoughts\n",
    "    if ('suicide' in net_string_output or\n",
    "        'suicidal' in net_string_output or\n",
    "        'kill myself' in net_string_output or\n",
    "        'I can’t do this' in net_string_output or\n",
    "        'it anymore' in net_string_output or\n",
    "        'die' in net_string_output or\n",
    "        'death' in net_string_output or\n",
    "        'I would go away' in net_string_output or\n",
    "        'it all ended' in net_string_output or\n",
    "        'gun(s)' in net_string_output or\n",
    "        'shoot myself' in net_string_output or\n",
    "        'go to bed and don’t wake up' in net_string_output or\n",
    "        'fell asleep forever' in net_string_output or\n",
    "        'never wake up' in net_string_output or\n",
    "        'don’t wake up' in net_string_output):\n",
    "        list_for_thread_1.append(-1)\n",
    "    else:\n",
    "        list_for_thread_1.append(0)\n",
    "\n",
    "    # List 2: Keywords related to feelings of hopelessness\n",
    "    if ('hopeless' in net_string_output or\n",
    "        'hopelessness' in net_string_output or\n",
    "        'never going to get better' in net_string_output or\n",
    "        'never get better' in net_string_output or\n",
    "        'impossible' in net_string_output or\n",
    "        'lost hope' in net_string_output or\n",
    "        'incurable' in net_string_output or\n",
    "        'desperate' in net_string_output or\n",
    "        'desperation' in net_string_output or\n",
    "        'give up' in net_string_output):\n",
    "        list_for_thread_2.append(-1)\n",
    "    else:\n",
    "        list_for_thread_2.append(0)\n",
    "\n",
    "    # List 3: Keywords related to feelings of being ruined or depressed\n",
    "    if ('ruined' in net_string_output or\n",
    "        'destroyed' in net_string_output or\n",
    "        'can’t study' in net_string_output or\n",
    "        'can’t work' in net_string_output or\n",
    "        'can’t focus' in net_string_output or\n",
    "        'can’t concentrate' in net_string_output or\n",
    "        'can’t sleep' in net_string_output or\n",
    "        'irritable' in net_string_output or\n",
    "        'depressed' in net_string_output or\n",
    "        'sad' in net_string_output or\n",
    "        'unhappy' in net_string_output or\n",
    "        'miserable' in net_string_output or\n",
    "        'stress' in net_string_output or\n",
    "        'lost my job' in net_string_output or\n",
    "        'lost friends' in net_string_output or\n",
    "        'isolated' in net_string_output or\n",
    "        'isolating' in net_string_output or\n",
    "        'isolation' in net_string_output or\n",
    "        'I don’t want to live' in net_string_output):\n",
    "        list_for_thread_3.append(-1)\n",
    "    else:\n",
    "        list_for_thread_3.append(0)\n",
    "\n",
    "    # List 4: Keywords related to worries and fears\n",
    "    if ('worried' in net_string_output or\n",
    "        'worry' in net_string_output or\n",
    "        'fear' in net_string_output or\n",
    "        'fears' in net_string_output or\n",
    "        'lose my job' in net_string_output or\n",
    "        'won’t graduate' in net_string_output or\n",
    "        'never get better' in net_string_output or\n",
    "        'won’t get better' in net_string_output or\n",
    "        'won’t improve' in net_string_output or\n",
    "        'never improve' in net_string_output or\n",
    "        'never get better' in net_string_output):\n",
    "        list_for_thread_4.append(-1)\n",
    "    else:\n",
    "        list_for_thread_4.append(0)\n",
    "\n",
    "    # List 5: Keywords related to offering support and positive sentiments\n",
    "    if ('feel better' in net_string_output or\n",
    "        'get well' in net_string_output or\n",
    "        'stay strong' in net_string_output or\n",
    "        'get better' in net_string_output or\n",
    "        'you got this' in net_string_output or\n",
    "        'you’ll get better' in net_string_output or\n",
    "        'thanks' in net_string_output or\n",
    "        'thank you' in net_string_output or\n",
    "        'best of luck' in net_string_output or\n",
    "        'wishing you' in net_string_output or\n",
    "        'good vibes' in net_string_output):\n",
    "        list_for_thread_5.append(1)\n",
    "    else:\n",
    "        list_for_thread_5.append(0)\n",
    "\n",
    "    # List 6: Keywords related to noticing improvements and positive changes\n",
    "    if ('improved' in net_string_output or\n",
    "        'got better' in net_string_output or\n",
    "        'is better' in net_string_output or\n",
    "        'improvement' in net_string_output or\n",
    "        'notice it as much' in net_string_output or\n",
    "        'not as loud' in net_string_output or\n",
    "        'less loud' in net_string_output or\n",
    "        'more focused' in net_string_output or\n",
    "        'happier' in net_string_output or\n",
    "        'much better' in net_string_output or\n",
    "        'healthier' in net_string_output or\n",
    "        'used to be worse' in net_string_output):\n",
    "        list_for_thread_6.append(1)\n",
    "    else:\n",
    "        list_for_thread_6.append(0)\n",
    "\n",
    "    # Append the results for this thread to the overall results list\n",
    "    keyword_results.append([list_for_thread_1[0], list_for_thread_2[0], list_for_thread_3[0], list_for_thread_4[0], list_for_thread_5[0], list_for_thread_6[0]])\n",
    "\n",
    "# Print the results\n",
    "for i, thread_result in enumerate(keyword_results):\n",
    "    print(thread_result)\n",
    "    "
   ]
  },
  {
   "cell_type": "code",
   "execution_count": 277,
   "id": "7cd4a74b-413b-484f-bec3-635ed5213823",
   "metadata": {
    "tags": []
   },
   "outputs": [
    {
     "data": {
      "image/png": "[encoded data removed]",
      "text/plain": [
       "<Figure size 600x600 with 1 Axes>"
      ]
     },
     "metadata": {},
     "output_type": "display_data"
    }
   ],
   "source": [
    "df = pd.DataFrame(keyword_results, columns = ['List 1', 'List 2', 'List 3', 'List 4', 'List 5', 'List 6'])\n",
    "df['Scores'] = df.sum(axis = 1)\n",
    "df['Label'] = df['Scores'].apply(lambda x: 'Positive' if x > 0 else ('Negative' if x < 0 else 'Neutral'))\n",
    "\n",
    "df.head()\n",
    "\n",
    "# Pie Chart\n",
    "plt.figure(figsize=(6, 6))\n",
    "labels = ['Negative', 'Neutral', 'Positive']\n",
    "sizes = [len(df[df['Label'] == 'Negative']), len(df[df['Label'] == 'Neutral']), len(df[df['Label'] == 'Positive'])]\n",
    "plt.pie(sizes, labels = labels, colors=['red', 'grey', 'yellow'])\n",
    "plt.axis('equal')\n",
    "plt.title('Proportions of Sentiment Labels')\n",
    "plt.show()"
   ]
  },
  {
   "cell_type": "code",
   "execution_count": 270,
   "id": "2b2be456-1698-4e95-b4eb-52f4021bff9a",
   "metadata": {
    "tags": []
   },
   "outputs": [],
   "source": [
    "# created for loop to generate lists of sub-scores for all 100 posts/comments based on if/else post classification blocks that will be used to calculate pverall scores, assign post labels, and placed into a dataframe.\n",
    "# visualized labels based on assigned scores with pie chart"
   ]
  },
  {
   "cell_type": "code",
   "execution_count": 266,
   "id": "b82d10bc-310e-4e32-8243-9fa457c324ba",
   "metadata": {
    "tags": []
   },
   "outputs": [
    {
     "name": "stdout",
     "output_type": "stream",
     "text": [
      "           List 1     List 2      List 3      List 4      List 5      List 6  \\\n",
      "count  100.000000  100.00000  100.000000  100.000000  100.000000  100.000000   \n",
      "mean    -0.190000   -0.08000   -0.300000   -0.130000    0.200000    0.180000   \n",
      "std      0.394277    0.27266    0.460566    0.337998    0.402015    0.386123   \n",
      "min     -1.000000   -1.00000   -1.000000   -1.000000    0.000000    0.000000   \n",
      "25%      0.000000    0.00000   -1.000000    0.000000    0.000000    0.000000   \n",
      "50%      0.000000    0.00000    0.000000    0.000000    0.000000    0.000000   \n",
      "75%      0.000000    0.00000    0.000000    0.000000    0.000000    0.000000   \n",
      "max      0.000000    0.00000    0.000000    0.000000    1.000000    1.000000   \n",
      "\n",
      "           Scores  \n",
      "count  100.000000  \n",
      "mean    -0.320000  \n",
      "std      0.908768  \n",
      "min     -3.000000  \n",
      "25%     -1.000000  \n",
      "50%      0.000000  \n",
      "75%      0.000000  \n",
      "max      2.000000  \n"
     ]
    },
    {
     "data": {
      "image/png": "[encoded data removed]",
      "text/plain": [
       "<Figure size 1000x600 with 1 Axes>"
      ]
     },
     "metadata": {},
     "output_type": "display_data"
    },
    {
     "data": {
      "image/png": "[encoded data removed]",
      "text/plain": [
       "<Figure size 800x600 with 2 Axes>"
      ]
     },
     "metadata": {},
     "output_type": "display_data"
    }
   ],
   "source": [
    "import seaborn as sns\n",
    "import matplotlib.pyplot as plt\n",
    "\n",
    "numeric_df = df.select_dtypes(include = ['float64', 'int64']) # Label coloumn was giveing the correlation heatmap issues due to string datatype\n",
    "print(numeric_df.describe())\n",
    "\n",
    "# Histograms and Boxplots shows how much certain language is contributing to each post/comment thread's label \n",
    "plt.figure(figsize=(10, 6))\n",
    "sns.histplot(data = numeric_df, bins = 20, kde = True)\n",
    "plt.title('Histogram of Scores')\n",
    "plt.xlabel('Score')\n",
    "plt.ylabel('Frequency')\n",
    "plt.show()\n",
    "\n",
    "# Correlation Heatmap shows if certain words are commonly used in conjuntion with others (expecting mostly low correclation accross the board). This could be used to help adjust model\n",
    "plt.figure(figsize=(8, 6))\n",
    "sns.heatmap(numeric_df.corr(), annot=True, cmap='coolwarm')\n",
    "plt.title('Correlation Heatmap')\n",
    "plt.show()\n"
   ]
  },
  {
   "cell_type": "code",
   "execution_count": 228,
   "id": "4e6c3e1e-911a-4b44-9e17-4f87c2e1ee20",
   "metadata": {
    "tags": []
   },
   "outputs": [],
   "source": [
    "# the histogram/desnsity plot helps visualize what language is most considerably contributing to the scores seen and how many of each label was assigned in the end.\n",
    "# the heat map allows us to see how the diferent language used may be correlated with one another. \n",
    "    # This can be heelpful to know, as improving the model will require classifying more of the language that is used in the mosts and including more synonyms to better catch specific types of language. \n",
    "    # The heat map hints at how well these synonyms may be being caught and what languge is used in conjunction with eachother. "
   ]
  },
  {
   "cell_type": "code",
   "execution_count": 256,
   "id": "7191b550-6d44-42a0-953a-828cd5ffe24c",
   "metadata": {
    "tags": []
   },
   "outputs": [
    {
     "name": "stdout",
     "output_type": "stream",
     "text": [
      "0.6\n"
     ]
    }
   ],
   "source": [
    "\n",
    "from sklearn.neighbors import KNeighborsClassifier\n",
    "from sklearn.model_selection import train_test_split\n",
    "df = df.drop('Label', axis = 1)\n",
    "X = df.drop('Scores', axis = 1)  # Features\n",
    "y = df['Scores']  # Target labels\n",
    "\n",
    "# Split the data into training and testing sets\n",
    "X_train, X_test, y_train, y_test = train_test_split(X, y, test_size = 0.2, random_state = 42)\n",
    "\n",
    "# Initialize and train the KNN classifier\n",
    "model = KNeighborsClassifier(n_neighbors = 5)  # You can adjust the number of neighbors\n",
    "model.fit(X_train, y_train)\n",
    "\n",
    "# Make predictions on the testing set\n",
    "y_pred = model.predict(X_test)\n",
    "\n",
    "# Evaluate the model\n",
    "print(accuracy_score(y_test, y_pred))\n"
   ]
  },
  {
   "cell_type": "code",
   "execution_count": 258,
   "id": "9056bd7f-dd08-44ef-a967-489bee6eaab4",
   "metadata": {
    "tags": []
   },
   "outputs": [
    {
     "name": "stdout",
     "output_type": "stream",
     "text": [
      "0.6\n"
     ]
    }
   ],
   "source": [
    "\n",
    "from sklearn.neighbors import KNeighborsClassifier\n",
    "from sklearn.model_selection import train_test_split\n",
    "#df = df.drop('Label', axis = 1)\n",
    "X = df.drop('Scores', axis = 1)  # Features\n",
    "y = df['Scores']  # Target labels\n",
    "\n",
    "# Split the data into training and testing sets\n",
    "X_train, X_test, y_train, y_test = train_test_split(X, y, test_size = 0.2, random_state = 42)\n",
    "\n",
    "# Initialize and train the KNN classifier\n",
    "model = KNeighborsClassifier(n_neighbors = 5)  # You can adjust the number of neighbors\n",
    "model.fit(X_train, y_train)\n",
    "\n",
    "# Make predictions on the testing set\n",
    "y_pred = model.predict(X_test)\n",
    "\n",
    "# Evaluate the model\n",
    "print(accuracy_score(y_test, y_pred))\n"
   ]
  },
  {
   "cell_type": "code",
   "execution_count": 272,
   "id": "87f14203-a138-4c6a-91cf-e8e99ffb71cf",
   "metadata": {
    "tags": []
   },
   "outputs": [
    {
     "name": "stdout",
     "output_type": "stream",
     "text": [
      "Cross-validation scores: [0.8  0.65 0.35 0.6  0.6 ]\n",
      "Mean accuracy: 0.6000000000000001\n"
     ]
    },
    {
     "name": "stderr",
     "output_type": "stream",
     "text": [
      "C:\\Users\\Damian\\AppData\\Roaming\\Python\\Python311\\site-packages\\sklearn\\model_selection\\_split.py:700: UserWarning: The least populated class in y has only 1 members, which is less than n_splits=5.\n",
      "  warnings.warn(\n"
     ]
    }
   ],
   "source": [
    "from sklearn.model_selection import cross_val_score\n",
    "scores = cross_val_score(model, X, y, cv = 5)\n",
    "\n",
    "# Print the cross-validation scores\n",
    "print(\"Cross-validation scores:\", scores)\n",
    "print(\"Mean accuracy:\", scores.mean())"
   ]
  },
  {
   "cell_type": "code",
   "execution_count": 261,
   "id": "b82c560e-421a-460a-8aa0-0165b874836b",
   "metadata": {
    "tags": []
   },
   "outputs": [
    {
     "name": "stderr",
     "output_type": "stream",
     "text": [
      "C:\\Users\\Damian\\AppData\\Roaming\\Python\\Python311\\site-packages\\sklearn\\model_selection\\_split.py:700: UserWarning: The least populated class in y has only 1 members, which is less than n_splits=5.\n",
      "  warnings.warn(\n"
     ]
    },
    {
     "name": "stdout",
     "output_type": "stream",
     "text": [
      "Best Parameters: {'n_neighbors': 3, 'weights': 'distance'}\n",
      "Best Score: 0.86\n"
     ]
    }
   ],
   "source": [
    "from sklearn.model_selection import GridSearchCV\n",
    "from sklearn.neighbors import KNeighborsClassifier\n",
    "\n",
    "# Define the parameter grid for KNeighborsClassifier\n",
    "param_grid = {'n_neighbors': [3, 5, 7], 'weights': ['uniform', 'distance']}  # example values for the weight function}\n",
    "\n",
    "# Create the GridSearchCV object\n",
    "grid = GridSearchCV(KNeighborsClassifier(model), param_grid, cv = 5)\n",
    "\n",
    "# Fit the grid search object to your data\n",
    "grid.fit(X, y)\n",
    "\n",
    "# Get the best parameters and best score\n",
    "best_params = grid.best_params_\n",
    "best_score = grid.best_score_\n",
    "\n",
    "# Print the best parameters and best score\n",
    "print(\"Best Parameters:\", best_params)\n",
    "print(\"Best Score:\", best_score)"
   ]
  },
  {
   "cell_type": "code",
   "execution_count": null,
   "id": "4a6e70b6-b3d1-450f-ac52-f9f1101dfa5a",
   "metadata": {},
   "outputs": [],
   "source": [
    "# "
   ]
  }
 ],
 "metadata": {
  "kernelspec": {
   "display_name": "Python 3 (ipykernel)",
   "language": "python",
   "name": "python3"
  },
  "language_info": {
   "codemirror_mode": {
    "name": "ipython",
    "version": 3
   },
   "file_extension": ".py",
   "mimetype": "text/x-python",
   "name": "python",
   "nbconvert_exporter": "python",
   "pygments_lexer": "ipython3",
   "version": "3.11.5"
  }
 },
 "nbformat": 4,
 "nbformat_minor": 5
}
