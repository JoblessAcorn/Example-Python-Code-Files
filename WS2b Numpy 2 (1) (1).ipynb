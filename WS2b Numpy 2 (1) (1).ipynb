{
 "cells": [
  {
   "cell_type": "markdown",
   "metadata": {
    "toc": true
   },
   "source": [
    "<h1>Table of Contents<span class=\"tocSkip\"></span></h1>\n",
    "<div class=\"toc\"><ul class=\"toc-item\"></ul></div>"
   ]
  },
  {
   "cell_type": "markdown",
   "metadata": {},
   "source": [
    "<font size=6>Foundations of Biomedical Computing</font>"
   ]
  },
  {
   "cell_type": "markdown",
   "metadata": {},
   "source": [
    "<font size=5>Worksheet #2b - NumPy: Computations</font>"
   ]
  },
  {
   "cell_type": "markdown",
   "metadata": {},
   "source": [
    "The focus of this assignment will be on the computational tools built into NumPy. These include aggregations, universal functions, masks, and sorting.\n",
    "<br>\n",
    "Understanding these computational tools in NumPy will make your life as a data scientist easier and more efficient. "
   ]
  },
  {
   "cell_type": "markdown",
   "metadata": {},
   "source": [
    "___"
   ]
  },
  {
   "cell_type": "code",
   "execution_count": 1,
   "metadata": {
    "tags": []
   },
   "outputs": [],
   "source": [
    "import numpy as np"
   ]
  },
  {
   "cell_type": "markdown",
   "metadata": {},
   "source": [
    "___"
   ]
  },
  {
   "cell_type": "markdown",
   "metadata": {},
   "source": [
    "<font size=5>Section 1: Aggregations</font>"
   ]
  },
  {
   "cell_type": "markdown",
   "metadata": {},
   "source": [
    "Some of the most useful built-in NumPy methods are the aggregations. This is the case as often when faced with daunting amounts of data, a first step is to compute summary statistics for the data in question. Perhaps the most common summary statistics are the mean and standard deviation, which allow you to summarize the \"typical\" values in a dataset, but other aggregates are useful as well, such as the sum, product, median, minimum and maximum, quantiles, etc..\n",
    "<br>\n",
    "<br>\n"
   ]
  },
  {
   "cell_type": "markdown",
   "metadata": {},
   "source": [
    "___"
   ]
  },
  {
   "cell_type": "markdown",
   "metadata": {},
   "source": [
    "There are a vast number of statistical aggregations present in NumPy, and the whole list can be found here: https://numpy.org/doc/stable/reference/routines.statistics.html"
   ]
  },
  {
   "cell_type": "markdown",
   "metadata": {},
   "source": [
    "1\\. Create a 1D numpy array of 1000 random numbers from 0 to 999.\n",
    "<br>\n",
    "Now use numpy commands to find the following for the array:\n",
    "- The Mean, Median, Max, and Min\n",
    "[//]: # (Hello)\n"
   ]
  },
  {
   "cell_type": "code",
   "execution_count": 15,
   "metadata": {
    "tags": []
   },
   "outputs": [
    {
     "name": "stdout",
     "output_type": "stream",
     "text": [
      "493.6\n",
      "998\n",
      "0\n",
      "499.5\n"
     ]
    }
   ],
   "source": [
    "import random\n",
    "x = np.array([random.randint(0,1000) for i in range(1000)])\n",
    "print(x.mean()) \n",
    "print(x.max())\n",
    "print(x.min())\n",
    "print(np.median(x))\n",
    "\n"
   ]
  },
  {
   "cell_type": "markdown",
   "metadata": {
    "jupyter": {
     "source_hidden": true
    },
    "tags": []
   },
   "source": [
    "2\\. Now create a 2D, 2x25 numpy array of random numbers from 0 to 999 and calculate the following:\n",
    "- The Sum for axis = 0\n",
    "- The Sum for axis = 1\n",
    "- The total sum\n",
    "\n",
    "What is the size of the output array for each of those sums? From this, what does it mean to perform an operation on axis=0 and axis=1? "
   ]
  },
  {
   "cell_type": "code",
   "execution_count": 20,
   "metadata": {
    "tags": []
   },
   "outputs": [
    {
     "name": "stdout",
     "output_type": "stream",
     "text": [
      "[[289 464 129 313 567 872 771 699 768 738 751  63 455 502 480   3 749 866\n",
      "  512 317 458  46 989 176 442]\n",
      " [149 661 890 830 354 142 368 472 521 237 717  30 758 800 812 374 690 348\n",
      "  329 636 842 251 257 263  81]]\n"
     ]
    }
   ],
   "source": [
    "y = np.array([random.randint(0,1000) for i in range(50)]).reshape(2,25)\n",
    "print(y)"
   ]
  },
  {
   "cell_type": "markdown",
   "metadata": {},
   "source": [
    "___"
   ]
  },
  {
   "cell_type": "markdown",
   "metadata": {},
   "source": [
    "<font size=5>Section 2: Universal Functions</font>"
   ]
  },
  {
   "cell_type": "markdown",
   "metadata": {},
   "source": [
    "There are a vast number of universal functions present in NumPy, and though many of them seem trivial to implement and use, the ease of use and speedup provided by NumPy make these functions critical.\n",
    "<br>\n",
    "<br>\n"
   ]
  },
  {
   "cell_type": "markdown",
   "metadata": {},
   "source": [
    "NumPy also has UFunctions for more complex operations like logs, sqrt, cos, sin, abs, etc."
   ]
  },
  {
   "cell_type": "markdown",
   "metadata": {},
   "source": [
    "___"
   ]
  },
  {
   "cell_type": "markdown",
   "metadata": {},
   "source": [
    "<font size=5>Section 3: Comparisons, Masks, and Boolean Logic</font>"
   ]
  },
  {
   "cell_type": "markdown",
   "metadata": {},
   "source": [
    "Arguably the most empowering use of NumPy is masking. Masking allows you to quickly and easily filter large amounts of data from an array. For instance, masking comes up when you want to extract, modify, count, or otherwise manipulate values in an array based on some criterion:\n",
    "<br>\n",
    "<br>\n",
    "For example, you might wish to count all values greater than a certain value, or perhaps remove all outliers that are above some threshold. In NumPy, Boolean masking is often the most efficient way to accomplish these types of tasks."
   ]
  },
  {
   "cell_type": "markdown",
   "metadata": {},
   "source": [
    "**Lets use the example of counting rainy days:**\n",
    "<br>\n",
    "For a moment let's imagine we have a series of data that represents the amount of precipitation each day for a year in a given city. In this case, we will load the daily rainfall statistics for the city of Seattle in 2014, using Pandas (which is the topic for the next lecture):"
   ]
  },
  {
   "cell_type": "code",
   "execution_count": 33,
   "metadata": {
    "tags": []
   },
   "outputs": [
    {
     "name": "stdout",
     "output_type": "stream",
     "text": [
      "[0.         0.16141732 0.05905512 0.         0.         0.01181102\n",
      " 0.48031496 0.38188976 0.22834646 0.16929134 0.83858268 0.05905512\n",
      " 0.         0.         0.         0.         0.         0.\n",
      " 0.         0.         0.         0.01968504 0.         0.\n",
      " 0.         0.         0.         0.3503937  0.8503937  0.\n",
      " 0.09055118 0.07874016 0.         0.         0.         0.\n",
      " 0.         0.         0.2007874  0.01968504 0.72047244 0.66929134\n",
      " 0.18110236 0.07086614 0.37007874 0.46062992 1.03937008 0.57086614\n",
      " 0.5984252  0.03937008 0.11811024 0.11023622 0.0984252  0.24015748\n",
      " 0.51181102 0.01181102 0.         0.         0.         0.01968504\n",
      " 0.7519685  0.42125984 0.6496063  1.83858268 0.11811024 0.\n",
      " 1.27165354 0.16929134 0.74015748 0.         0.         0.01968504\n",
      " 0.27165354 0.31889764 1.09055118 0.01181102 0.         0.01968504\n",
      " 0.         0.         0.         0.         0.         0.16141732\n",
      " 0.14173228 0.01181102 0.87007874 0.5511811  0.         0.\n",
      " 0.         0.         0.0984252  0.         0.18110236 0.\n",
      " 0.         0.18110236 0.         0.         0.         0.\n",
      " 0.         0.         0.01968504 0.42913386 0.72834646 0.\n",
      " 0.53937008 0.         0.2007874  0.55905512 0.3503937  0.48818898\n",
      " 0.         0.12992126 0.27165354 0.         0.         0.\n",
      " 0.         0.         1.31102362 0.62992126 0.2007874  0.\n",
      " 0.         0.53937008 0.07874016 0.01968504 0.         0.\n",
      " 0.         0.         0.         0.         0.         0.\n",
      " 0.         0.         0.         0.         0.1496063  0.\n",
      " 0.22047244 0.         0.         0.         0.         0.\n",
      " 0.         0.         0.         0.         0.         0.\n",
      " 0.         0.         0.         0.         0.         0.\n",
      " 0.07086614 0.2519685  0.         0.01968504 0.14173228 0.0511811\n",
      " 0.         0.03149606 0.01181102 0.         0.         0.\n",
      " 0.         0.         0.         0.07086614 0.09055118 0.\n",
      " 0.         0.         0.         0.         0.         0.\n",
      " 0.         0.         0.         0.         0.         0.\n",
      " 0.         0.         0.         0.         0.         0.\n",
      " 0.         0.         0.         0.         0.01181102 0.75984252\n",
      " 0.         0.         0.         0.         0.         0.\n",
      " 0.         0.         0.         0.01968504 0.         0.\n",
      " 0.         0.         0.         0.         0.         0.\n",
      " 0.01968504 0.5        0.8503937  0.         0.03937008 0.\n",
      " 0.         0.         0.         0.         0.         0.\n",
      " 0.         0.         0.         0.         0.         0.\n",
      " 0.         0.33070866 0.0511811  0.         0.11811024 0.\n",
      " 0.         0.         0.         0.         0.         0.\n",
      " 0.         0.         0.         0.         0.         0.\n",
      " 0.         0.01968504 0.01181102 0.         0.         0.\n",
      " 0.01181102 0.72047244 0.7992126  0.16929134 0.3503937  0.\n",
      " 0.         0.03149606 0.         0.         0.         0.\n",
      " 0.         0.         0.         0.         0.         0.\n",
      " 0.01181102 0.29133858 0.         0.2992126  0.27952756 0.33858268\n",
      " 0.         0.12992126 0.59055118 0.         0.46062992 0.03937008\n",
      " 1.25984252 0.37007874 0.16141732 0.24015748 0.05905512 0.03149606\n",
      " 0.5        0.01968504 1.         0.66929134 0.         0.07086614\n",
      " 0.42913386 0.16141732 0.18897638 0.16141732 0.         0.\n",
      " 0.2007874  0.         0.         0.         0.         0.\n",
      " 0.         0.         0.         0.         0.         0.14173228\n",
      " 0.5984252  0.01968504 0.46850394 0.0511811  0.72047244 0.01181102\n",
      " 0.12992126 1.3503937  0.14173228 0.         0.         0.\n",
      " 0.         0.03149606 0.11811024 0.29133858 0.         0.35826772\n",
      " 0.38976378 0.51181102 0.27165354 0.         0.         0.\n",
      " 0.         0.         0.11023622 0.51181102 0.11811024 0.77165354\n",
      " 0.         0.         0.81102362 0.20866142 0.         0.\n",
      " 0.12992126 0.16141732 0.         0.         0.        ]\n"
     ]
    }
   ],
   "source": [
    "import numpy as np\n",
    "import pandas as pd\n",
    "\n",
    "# use pandas to extract rainfall inches as a NumPy array\n",
    "rainfall = pd.read_csv('Seattle2014.csv')['PRCP'].values\n",
    "inches = rainfall / 254.0  # 1/10mm -> inches\n",
    "print(inches)"
   ]
  },
  {
   "cell_type": "markdown",
   "metadata": {},
   "source": [
    "We can see that the array contains 365 values, giving daily rainfall in inches from January 1 to December 31, 2014.\n",
    "<br>\n",
    "As a first quick visualization, let's look at the histogram of rainy days, which was generated using Matplotlib (we will explore this tool more fully in a few weeks from now):"
   ]
  },
  {
   "cell_type": "code",
   "execution_count": 26,
   "metadata": {
    "tags": []
   },
   "outputs": [
    {
     "data": {
      "text/plain": [
       "Text(0.5, 1.0, 'Histogram of daily rainfall in inches')"
      ]
     },
     "execution_count": 26,
     "metadata": {},
     "output_type": "execute_result"
    },
    {
     "data": {
      "image/png": "[encoded data removed]",
      "text/plain": [
       "<Figure size 640x480 with 1 Axes>"
      ]
     },
     "metadata": {},
     "output_type": "display_data"
    }
   ],
   "source": [
    "%matplotlib inline\n",
    "import matplotlib.pyplot as plt\n",
    "import seaborn; seaborn.set()  # set plot styles\n",
    "plt.hist(inches, 40);\n",
    "plt.title('Histogram of daily rainfall in inches')"
   ]
  },
  {
   "cell_type": "markdown",
   "metadata": {},
   "source": [
    "This histogram gives us a general idea of what the data looks like, However, it doesn't do a good job of conveying some information we'd like to see: \n",
    "- How many rainy days were there in the year? \n",
    "- What is the average precipitation on those rainy days? \n",
    "- How many days were there with more than half an inch of rain?"
   ]
  },
  {
   "cell_type": "markdown",
   "metadata": {},
   "source": [
    "As you know, comparison operators (`<`, `>`) are also available as UFunctions to NumPy arrays (see this lecture and the last worksheet), so armed with this knowledge, we can do a lot to analyze this data.\n",
    "<br>\n",
    "<br>\n",
    "But before that let's review the counting UFunctions built into NumPy.  Here are some examples:"
   ]
  },
  {
   "cell_type": "markdown",
   "metadata": {},
   "source": [
    "4\\. The following code creates a 3x4 2D array with values between 0 and 9 and a starting random state of 17.\n",
    "<br>\n",
    "Study the code and see how it solves the following problems. Uncomment each line to see the result.\n",
    "\n",
    "- Generate a boolean array of which values are greater than 4\n",
    "- Count the number of values less than 4\n",
    "- Count the number of values less than 4 in another way, using a function we already know (remember that true=1)\n",
    "- Find the number of values less than 4 in each row\n",
    "- Find the number of values less than 4 in each column\n",
    "- Find if there are any values greater than 8 (should return True or False)\n",
    "- Find if there are any values less than 0 (should return True or False)\n",
    "- Find if all values are less than 10 (should return True or False)\n",
    "[//]: # (Hello)\n",
    "\n",
    "Notice that all of these problems are solved with a single UFunction call.\n"
   ]
  },
  {
   "cell_type": "code",
   "execution_count": 29,
   "metadata": {
    "tags": []
   },
   "outputs": [
    {
     "name": "stdout",
     "output_type": "stream",
     "text": [
      "[[1 6 6 0]\n",
      " [6 4 7 4]\n",
      " [7 1 1 8]]\n"
     ]
    },
    {
     "data": {
      "text/plain": [
       "True"
      ]
     },
     "execution_count": 29,
     "metadata": {},
     "output_type": "execute_result"
    }
   ],
   "source": [
    "import numpy as np\n",
    "np.random.seed(17)\n",
    "x = np.random.randint(9,size=(3,4))\n",
    "print(x)\n",
    "x < 4\n",
    "np.count_nonzero(x < 4)\n",
    "np.sum(x < 4)\n",
    "np.sum(x < 4, axis=1)\n",
    "np.sum(x < 6, axis=0)\n",
    "np.any(x > 8)\n",
    "np.any(x < 0)\n",
    "np.all(x < 10) "
   ]
  },
  {
   "cell_type": "markdown",
   "metadata": {},
   "source": [
    "\n",
    "5\\. Now using what you know from above, find the following from our Seattle data:\n",
    "- The number of days without rain\n",
    "- The number of days with rain\n",
    "- Days with  more than 0.5 inches of rain\n",
    "- Rainy days with less than 0.2 inches of rain\n",
    "- The number of days between .5 and 1 inches of rain\n",
    "[//]: # (Hello)\n",
    "Once again, everything can be done with a single Ufunction call"
   ]
  },
  {
   "cell_type": "code",
   "execution_count": 46,
   "metadata": {
    "tags": []
   },
   "outputs": [
    {
     "name": "stdout",
     "output_type": "stream",
     "text": [
      "215\n",
      "150\n",
      "37\n",
      "290\n",
      "365\n"
     ]
    }
   ],
   "source": [
    "import numpy as np\n",
    "import pandas as pd\n",
    "print(np.sum(inches == 0))\n",
    "print(np.sum(inches != 0))\n",
    "print(np.sum(inches > 0.5))\n",
    "print(np.sum(inches < 0.2))\n",
    "print(np.sum((inches < 1.0) + (inches > 0.5)))"
   ]
  },
  {
   "cell_type": "markdown",
   "metadata": {},
   "source": [
    "In the preceding sections we looked at aggregates computed directly on Boolean arrays. A more powerful pattern is to use Boolean arrays as masks, to select particular subsets of the data themselves. Returning to our work from question 4, this time with masks, solve the following problem."
   ]
  },
  {
   "cell_type": "markdown",
   "metadata": {},
   "source": [
    "6\\. Using the same initial array from question 4:\n",
    "- Return a new array with only values less than 5 \n",
    "[//]: # (Hello)\n",
    "Once again, everything can be done with a Ufunction call, that looks sorta like a list comprehension"
   ]
  },
  {
   "cell_type": "code",
   "execution_count": 8,
   "metadata": {},
   "outputs": [
    {
     "name": "stdout",
     "output_type": "stream",
     "text": [
      "[[1 6 6 0]\n",
      " [6 4 7 4]\n",
      " [7 1 1 8]]\n",
      "[1 0 4 4 1 1]\n"
     ]
    }
   ],
   "source": [
    "import numpy as np\n",
    "np.random.seed(17)\n",
    "x = np.random.randint(9,size=(3,4))\n",
    "new_x = x [np.where(x < 5)] # obtained this use of brackets from stack overflow\n",
    "print(x)\n",
    "print(new_x)"
   ]
  },
  {
   "cell_type": "markdown",
   "metadata": {},
   "source": [
    "Finally, lets apply everything we have learned so far to our rainfall example:"
   ]
  },
  {
   "cell_type": "markdown",
   "metadata": {},
   "source": [
    "7\\. Using masks and UFunctions, find the following:\n",
    "- Median precipitation on rainy days in 2014\n",
    "- 25th Percentile precipitation on summer days in 2014\n",
    "- Maximum precipitation on summer days in 2014\n",
    "- Standard Deviation precipitation on non-summer rainy days"
   ]
  },
  {
   "cell_type": "code",
   "execution_count": 35,
   "metadata": {},
   "outputs": [
    {
     "name": "stdout",
     "output_type": "stream",
     "text": [
      "[0.         0.16141732 0.05905512 0.         0.         0.01181102\n",
      " 0.48031496 0.38188976 0.22834646 0.16929134 0.83858268 0.05905512\n",
      " 0.         0.         0.         0.         0.         0.\n",
      " 0.         0.         0.         0.01968504 0.         0.\n",
      " 0.         0.         0.         0.3503937  0.8503937  0.\n",
      " 0.09055118 0.07874016 0.         0.         0.         0.\n",
      " 0.         0.         0.2007874  0.01968504 0.72047244 0.66929134\n",
      " 0.18110236 0.07086614 0.37007874 0.46062992 1.03937008 0.57086614\n",
      " 0.5984252  0.03937008 0.11811024 0.11023622 0.0984252  0.24015748\n",
      " 0.51181102 0.01181102 0.         0.         0.         0.01968504\n",
      " 0.7519685  0.42125984 0.6496063  1.83858268 0.11811024 0.\n",
      " 1.27165354 0.16929134 0.74015748 0.         0.         0.01968504\n",
      " 0.27165354 0.31889764 1.09055118 0.01181102 0.         0.01968504\n",
      " 0.         0.         0.         0.         0.         0.16141732\n",
      " 0.14173228 0.01181102 0.87007874 0.5511811  0.         0.\n",
      " 0.         0.         0.0984252  0.         0.18110236 0.\n",
      " 0.         0.18110236 0.         0.         0.         0.\n",
      " 0.         0.         0.01968504 0.42913386 0.72834646 0.\n",
      " 0.53937008 0.         0.2007874  0.55905512 0.3503937  0.48818898\n",
      " 0.         0.12992126 0.27165354 0.         0.         0.\n",
      " 0.         0.         1.31102362 0.62992126 0.2007874  0.\n",
      " 0.         0.53937008 0.07874016 0.01968504 0.         0.\n",
      " 0.         0.         0.         0.         0.         0.\n",
      " 0.         0.         0.         0.         0.1496063  0.\n",
      " 0.22047244 0.         0.         0.         0.         0.\n",
      " 0.         0.         0.         0.         0.         0.\n",
      " 0.         0.         0.         0.         0.         0.\n",
      " 0.07086614 0.2519685  0.         0.01968504 0.14173228 0.0511811\n",
      " 0.         0.03149606 0.01181102 0.         0.         0.\n",
      " 0.         0.         0.         0.07086614 0.09055118 0.\n",
      " 0.         0.         0.         0.         0.         0.\n",
      " 0.         0.         0.         0.         0.         0.\n",
      " 0.         0.         0.         0.         0.         0.\n",
      " 0.         0.         0.         0.         0.01181102 0.75984252\n",
      " 0.         0.         0.         0.         0.         0.\n",
      " 0.         0.         0.         0.01968504 0.         0.\n",
      " 0.         0.         0.         0.         0.         0.\n",
      " 0.01968504 0.5        0.8503937  0.         0.03937008 0.\n",
      " 0.         0.         0.         0.         0.         0.\n",
      " 0.         0.         0.         0.         0.         0.\n",
      " 0.         0.33070866 0.0511811  0.         0.11811024 0.\n",
      " 0.         0.         0.         0.         0.         0.\n",
      " 0.         0.         0.         0.         0.         0.\n",
      " 0.         0.01968504 0.01181102 0.         0.         0.\n",
      " 0.01181102 0.72047244 0.7992126  0.16929134 0.3503937  0.\n",
      " 0.         0.03149606 0.         0.         0.         0.\n",
      " 0.         0.         0.         0.         0.         0.\n",
      " 0.01181102 0.29133858 0.         0.2992126  0.27952756 0.33858268\n",
      " 0.         0.12992126 0.59055118 0.         0.46062992 0.03937008\n",
      " 1.25984252 0.37007874 0.16141732 0.24015748 0.05905512 0.03149606\n",
      " 0.5        0.01968504 1.         0.66929134 0.         0.07086614\n",
      " 0.42913386 0.16141732 0.18897638 0.16141732 0.         0.\n",
      " 0.2007874  0.         0.         0.         0.         0.\n",
      " 0.         0.         0.         0.         0.         0.14173228\n",
      " 0.5984252  0.01968504 0.46850394 0.0511811  0.72047244 0.01181102\n",
      " 0.12992126 1.3503937  0.14173228 0.         0.         0.\n",
      " 0.         0.03149606 0.11811024 0.29133858 0.         0.35826772\n",
      " 0.38976378 0.51181102 0.27165354 0.         0.         0.\n",
      " 0.         0.         0.11023622 0.51181102 0.11811024 0.77165354\n",
      " 0.         0.         0.81102362 0.20866142 0.         0.\n",
      " 0.12992126 0.16141732 0.         0.         0.        ]\n",
      "0.0\n",
      "0.0\n",
      "1.8385826771653544\n",
      "0.2666251761084914\n"
     ]
    }
   ],
   "source": [
    "import numpy as np\n",
    "import pandas as pd\n",
    "\n",
    "rainfall = pd.read_csv('Seattle2014.csv')['PRCP'].values\n",
    "inches = rainfall / 254.0  # 1/10mm -> inches\n",
    "print(inches)\n",
    "print(np.median(inches))\n",
    "print(np.percentile(inches, 25))\n",
    "print(np.max(inches))\n",
    "print(np.std(inches)) # am unsure how to discriminate between non-summer and summer days"
   ]
  },
  {
   "cell_type": "markdown",
   "metadata": {},
   "source": [
    "___"
   ]
  },
  {
   "cell_type": "markdown",
   "metadata": {},
   "source": [
    "<font size=5>Section 4: Sorting</font>"
   ]
  },
  {
   "cell_type": "markdown",
   "metadata": {},
   "source": [
    "I wont go into the performance considerations of sorting here, but rest assured that sorting using the built in NumPy (or even python) methods is going to be much quicker than anything we can realistically throw together, and when working with massive datasets, this becomes a huge deal."
   ]
  },
  {
   "cell_type": "markdown",
   "metadata": {},
   "source": [
    "8\\. Generate a 1d array with 20 random entries between 0 and 99\n",
    "- Sort the array via a view\n",
    "- Sort the array in place\n"
   ]
  },
  {
   "cell_type": "code",
   "execution_count": 26,
   "metadata": {},
   "outputs": [
    {
     "name": "stdout",
     "output_type": "stream",
     "text": [
      "[ 3 14 16 17 19 21 29 29 31 32 33 40 45 52 56 62 82 87 93 99]\n",
      "[87 93 82 32 52 56 33  3 14 45 21 29 16 17 31 29 40 99 62 19]\n",
      "[ 3 14 16 17 19 21 29 29 31 32 33 40 45 52 56 62 82 87 93 99]\n"
     ]
    }
   ],
   "source": [
    "import random\n",
    "import numpy as np\n",
    "import pandas as pd\n",
    "array1 = np.array([random.randint(0,100) for i in range(20)])\n",
    "print(np.sort(array1))\n",
    "print(array1)\n",
    "array2 = (np.sort(array1))\n",
    "print(array2)"
   ]
  },
  {
   "cell_type": "markdown",
   "metadata": {},
   "source": [
    "8\\. Generate a 2d array with 54 random entries (6x9) between 0 and 9\n",
    "- Sort the array\n",
    "- Sort the array along each column\n",
    "- Sort the array along each row"
   ]
  },
  {
   "cell_type": "code",
   "execution_count": 34,
   "metadata": {},
   "outputs": [
    {
     "name": "stdout",
     "output_type": "stream",
     "text": [
      "[[5 6 8 1 0 3 8 8 0]\n",
      " [2 4 6 3 4 6 0 6 8]\n",
      " [7 8 0 5 9 9 7 4 8]\n",
      " [7 5 2 6 6 0 0 6 3]\n",
      " [1 1 9 4 4 8 8 2 7]\n",
      " [9 6 1 9 2 1 2 8 7]]\n",
      "[[0 0 1 3 5 6 8 8 8]\n",
      " [0 2 3 4 4 6 6 6 8]\n",
      " [0 4 5 7 7 8 8 9 9]\n",
      " [0 0 2 3 5 6 6 6 7]\n",
      " [1 1 2 4 4 7 8 8 9]\n",
      " [1 1 2 2 6 7 8 9 9]]\n",
      "[[1 1 0 1 0 0 0 2 0]\n",
      " [2 4 1 3 2 1 0 4 3]\n",
      " [5 5 2 4 4 3 2 6 7]\n",
      " [7 6 6 5 4 6 7 6 7]\n",
      " [7 6 8 6 6 8 8 8 8]\n",
      " [9 8 9 9 9 9 8 8 8]]\n",
      "[[0 0 1 3 5 6 8 8 8]\n",
      " [0 2 3 4 4 6 6 6 8]\n",
      " [0 4 5 7 7 8 8 9 9]\n",
      " [0 0 2 3 5 6 6 6 7]\n",
      " [1 1 2 4 4 7 8 8 9]\n",
      " [1 1 2 2 6 7 8 9 9]]\n"
     ]
    }
   ],
   "source": [
    "import random\n",
    "import numpy as np\n",
    "import pandas as pd\n",
    "array3 = np.array([random.randint(0,9) for i in range(54)]).reshape(6,9)\n",
    "print(array3)\n",
    "print(np.sort(array3))\n",
    "print(np.sort(array3, axis=0))\n",
    "print(np.sort(array3, axis=1))"
   ]
  },
  {
   "cell_type": "markdown",
   "metadata": {},
   "source": [
    "___"
   ]
  },
  {
   "cell_type": "markdown",
   "metadata": {},
   "source": [
    "<font size=5>Continued Training for the Love Data Week Games</font>\n",
    "\n",
    "Love Data Week is coming up soon - It's Feb 12-16!\n",
    "\n",
    "(There will be seminars and data-inspired activities in the real world, but we'll imagine a fictitious charity games day to practice numpy skills.)\n",
    "\n",
    "Team Toasted Ravioli and Team Bread-sliced Bagels now begin training for the pi eating contest.\n",
    "\n",
    "First our teams must find some pi.\n",
    "\n",
    "<font size=3>Hide the pi</font>\n",
    "\n",
    "9a\\. Your first job is to create a grid in which to hide the pi.  Do this by creating a numpy array with six rows and eight columns, filled with random integers between 0 and 9. To prepare the grid to receive pi, though, convert it to float format after creating it."
   ]
  },
  {
   "cell_type": "code",
   "execution_count": 41,
   "metadata": {},
   "outputs": [
    {
     "name": "stdout",
     "output_type": "stream",
     "text": [
      "[[3 6 8 8 9 9 2 7]\n",
      " [0 4 5 5 2 5 2 8]\n",
      " [9 8 2 5 9 8 9 6]\n",
      " [7 6 3 6 5 3 7 8]\n",
      " [8 1 6 4 4 5 3 6]\n",
      " [7 9 7 0 5 2 7 1]]\n",
      "[[3. 6. 8. 8. 9. 9. 2. 7.]\n",
      " [0. 4. 5. 5. 2. 5. 2. 8.]\n",
      " [9. 8. 2. 5. 9. 8. 9. 6.]\n",
      " [7. 6. 3. 6. 5. 3. 7. 8.]\n",
      " [8. 1. 6. 4. 4. 5. 3. 6.]\n",
      " [7. 9. 7. 0. 5. 2. 7. 1.]]\n"
     ]
    }
   ],
   "source": [
    "array4 = np.array([random.randint(0,9) for i in range(48)]).reshape(6,8)\n",
    "print(array4)\n",
    "array5 = array4.astype(float) # obtained astype from stack overflow\n",
    "print(array5)"
   ]
  },
  {
   "cell_type": "markdown",
   "metadata": {},
   "source": [
    "9b\\. Now use numpy commands to create a boolean mask of the same size as your pi grid, randomly filled with boolean True and False."
   ]
  },
  {
   "cell_type": "code",
   "execution_count": 3,
   "metadata": {},
   "outputs": [
    {
     "name": "stdout",
     "output_type": "stream",
     "text": [
      "[[8 6 0 2 8 4 7 5]\n",
      " [3 9 8 5 8 3 9 4]\n",
      " [0 9 3 5 7 3 8 4]\n",
      " [6 0 6 2 9 2 2 7]\n",
      " [7 2 6 7 2 4 1 7]\n",
      " [9 0 1 3 8 4 9 5]]\n",
      "[[8. 6. 0. 2. 8. 4. 7. 5.]\n",
      " [3. 9. 8. 5. 8. 3. 9. 4.]\n",
      " [0. 9. 3. 5. 7. 3. 8. 4.]\n",
      " [6. 0. 6. 2. 9. 2. 2. 7.]\n",
      " [7. 2. 6. 7. 2. 4. 1. 7.]\n",
      " [9. 0. 1. 3. 8. 4. 9. 5.]]\n",
      "[[False  True False False False  True False  True]\n",
      " [ True False False  True False False  True  True]\n",
      " [False False False False False  True  True  True]\n",
      " [False  True False False  True  True  True False]\n",
      " [ True  True  True  True  True False False False]\n",
      " [False  True False False  True  True False  True]]\n"
     ]
    }
   ],
   "source": [
    "import random\n",
    "import numpy as np\n",
    "array4 = np.array([random.randint(0,9) for i in range(48)]).reshape(6,8)\n",
    "print(array4)\n",
    "array5 = array4.astype(float) # obtained astype from stack overflow\n",
    "print(array5)\n",
    "array_mask = np.random.choice([True, False], size = array5.shape) # referenced ChatGPT for help on the formatting of .shape in a mask\n",
    "print(array_mask)"
   ]
  },
  {
   "cell_type": "markdown",
   "metadata": {},
   "source": [
    "9c\\. Finally, use your boolean mask to hide pi (np.pi) in the locations of your grid corresponding to True in your mask."
   ]
  },
  {
   "cell_type": "code",
   "execution_count": 7,
   "metadata": {},
   "outputs": [
    {
     "name": "stdout",
     "output_type": "stream",
     "text": [
      "[[False False False False False  True  True False]\n",
      " [False  True False False False  True False  True]\n",
      " [False  True  True False  True  True False  True]\n",
      " [ True False  True  True False  True  True  True]\n",
      " [ True  True False  True  True  True  True  True]\n",
      " [ True False  True  True  True  True False  True]]\n",
      "[[3.         3.         1.         2.         8.         3.14159265\n",
      "  3.14159265 9.        ]\n",
      " [8.         3.14159265 1.         8.         0.         3.14159265\n",
      "  3.         3.14159265]\n",
      " [3.         3.14159265 3.14159265 0.         3.14159265 3.14159265\n",
      "  9.         3.14159265]\n",
      " [3.14159265 5.         3.14159265 3.14159265 0.         3.14159265\n",
      "  3.14159265 3.14159265]\n",
      " [3.14159265 3.14159265 2.         3.14159265 3.14159265 3.14159265\n",
      "  3.14159265 3.14159265]\n",
      " [3.14159265 2.         3.14159265 3.14159265 3.14159265 3.14159265\n",
      "  3.         3.14159265]]\n"
     ]
    }
   ],
   "source": [
    "import random\n",
    "import numpy as np\n",
    "import math\n",
    "array4 = np.array([random.randint(0,9) for i in range(48)]).reshape(6,8)\n",
    "array5 = array4.astype(float) # obtained astype from stack overflow\n",
    "array_mask = np.random.choice([True, False], size = array5.shape)\n",
    "print(array_mask)\n",
    "array5[array_mask] = np.pi\n",
    "print(array5)"
   ]
  },
  {
   "cell_type": "markdown",
   "metadata": {},
   "source": [
    "10a\\. Now that the pi are hidden, use numpy commands to slice the grid into two equal parts (vertically or horizontally) and give one part to each team."
   ]
  },
  {
   "cell_type": "code",
   "execution_count": 17,
   "metadata": {},
   "outputs": [
    {
     "name": "stdout",
     "output_type": "stream",
     "text": [
      "[[8.         3.14159265 3.14159265 3.14159265 3.14159265 3.14159265\n",
      "  3.14159265 3.14159265]\n",
      " [3.14159265 9.         1.         6.         3.14159265 9.\n",
      "  3.14159265 3.14159265]\n",
      " [7.         3.14159265 7.         3.14159265 3.14159265 3.14159265\n",
      "  3.14159265 3.14159265]\n",
      " [0.         3.14159265 3.14159265 3.14159265 3.         3.14159265\n",
      "  9.         3.14159265]\n",
      " [4.         3.14159265 2.         0.         4.         3.\n",
      "  3.14159265 3.14159265]\n",
      " [3.14159265 3.14159265 3.14159265 5.         3.14159265 5.\n",
      "  3.         4.        ]]\n",
      "[array([[8.        , 3.14159265, 3.14159265, 3.14159265],\n",
      "       [3.14159265, 9.        , 1.        , 6.        ],\n",
      "       [7.        , 3.14159265, 7.        , 3.14159265],\n",
      "       [0.        , 3.14159265, 3.14159265, 3.14159265],\n",
      "       [4.        , 3.14159265, 2.        , 0.        ],\n",
      "       [3.14159265, 3.14159265, 3.14159265, 5.        ]]), array([[3.14159265, 3.14159265, 3.14159265, 3.14159265],\n",
      "       [3.14159265, 9.        , 3.14159265, 3.14159265],\n",
      "       [3.14159265, 3.14159265, 3.14159265, 3.14159265],\n",
      "       [3.        , 3.14159265, 9.        , 3.14159265],\n",
      "       [4.        , 3.        , 3.14159265, 3.14159265],\n",
      "       [3.14159265, 5.        , 3.        , 4.        ]])]\n",
      "[[8.         3.14159265 3.14159265 3.14159265]\n",
      " [3.14159265 9.         1.         6.        ]\n",
      " [7.         3.14159265 7.         3.14159265]\n",
      " [0.         3.14159265 3.14159265 3.14159265]\n",
      " [4.         3.14159265 2.         0.        ]\n",
      " [3.14159265 3.14159265 3.14159265 5.        ]]\n",
      "[[3.14159265 3.14159265 3.14159265 3.14159265]\n",
      " [3.14159265 9.         3.14159265 3.14159265]\n",
      " [3.14159265 3.14159265 3.14159265 3.14159265]\n",
      " [3.         3.14159265 9.         3.14159265]\n",
      " [4.         3.         3.14159265 3.14159265]\n",
      " [3.14159265 5.         3.         4.        ]]\n"
     ]
    }
   ],
   "source": [
    "import random\n",
    "import numpy as np\n",
    "import math\n",
    "array4 = np.array([random.randint(0,9) for i in range(48)]).reshape(6,8)\n",
    "array5 = array4.astype(float)\n",
    "array_mask = np.random.choice([True, False], size = array5.shape)\n",
    "array5[array_mask] = np.pi\n",
    "print(array5)\n",
    "sub_arrays = np.hsplit(array5, 2)\n",
    "print(sub_arrays)\n",
    "Bagels = sub_arrays[0]\n",
    "print(Bagels)\n",
    "Raviolis = sub_arrays[1]\n",
    "print(Raviolis)"
   ]
  },
  {
   "cell_type": "markdown",
   "metadata": {},
   "source": [
    "<font size=3>Eat the pi</font>\n",
    "\n",
    "10b\\. For each team, write code that reports how many pi are in their grid. Then, each team must eat their pi by replacing each instance of pi with the mean value of their grids using np.where( ). Show the new grids for each team."
   ]
  },
  {
   "cell_type": "code",
   "execution_count": 44,
   "metadata": {},
   "outputs": [
    {
     "name": "stdout",
     "output_type": "stream",
     "text": [
      "11\n",
      "[[1.         3.81489663 3.81489663 3.81489663]\n",
      " [3.81489663 2.         7.         3.81489663]\n",
      " [1.         1.         3.81489663 3.81489663]\n",
      " [6.         3.         8.         3.81489663]\n",
      " [2.         8.         6.         6.        ]\n",
      " [3.81489663 3.81489663 3.81489663 6.        ]]\n",
      "12\n",
      "[[7.         1.         3.86246299 3.86246299]\n",
      " [8.         3.86246299 1.         3.86246299]\n",
      " [3.86246299 3.86246299 9.         3.86246299]\n",
      " [9.         2.         3.         3.86246299]\n",
      " [5.         3.86246299 3.86246299 4.        ]\n",
      " [0.         3.86246299 3.86246299 6.        ]]\n"
     ]
    }
   ],
   "source": [
    "\n",
    "print(np.count_nonzero(Bagels == np.pi))\n",
    "Bagels_mean = np.mean(Bagels)\n",
    "Bagels_eatpi = np.where(Bagels == np.pi, Bagels_mean, Bagels)\n",
    "print(Bagels_eatpi)\n",
    "\n",
    "print(np.count_nonzero(Raviolis == np.pi))\n",
    "Raviolis_mean = np.mean(Raviolis)\n",
    "Raviolis_eatpi = np.where(Raviolis == np.pi, Raviolis_mean, Raviolis)\n",
    "print(Raviolis_eatpi)\n"
   ]
  },
  {
   "cell_type": "markdown",
   "metadata": {},
   "source": [
    "Finally, the teams calculate their score by summing all of the elements of their grid.  Which team had the largest sum?"
   ]
  },
  {
   "cell_type": "code",
   "execution_count": 43,
   "metadata": {},
   "outputs": [
    {
     "name": "stdout",
     "output_type": "stream",
     "text": [
      "False\n",
      "98.96386296184853\n",
      "101.34955592153875\n"
     ]
    }
   ],
   "source": [
    "\n",
    "print(np.sum(Bagels_eatpi) > np.sum(Raviolis_eatpi)) # just practicng bools\n",
    "print(np.sum(Bagels_eatpi))\n",
    "print(np.sum(Raviolis_eatpi))\n",
    " #Team Raviolis had the larger sum!!!!!!!!"
   ]
  },
  {
   "cell_type": "markdown",
   "metadata": {},
   "source": [
    "10\\. If you have any additional questions, comments, or concerns, please state them below and we will do our best to address them"
   ]
  },
  {
   "cell_type": "code",
   "execution_count": null,
   "metadata": {},
   "outputs": [],
   "source": [
    "N/A"
   ]
  }
 ],
 "metadata": {
  "kernelspec": {
   "display_name": "Python 3 (ipykernel)",
   "language": "python",
   "name": "python3"
  },
  "language_info": {
   "codemirror_mode": {
    "name": "ipython",
    "version": 3
   },
   "file_extension": ".py",
   "mimetype": "text/x-python",
   "name": "python",
   "nbconvert_exporter": "python",
   "pygments_lexer": "ipython3",
   "version": "3.11.5"
  },
  "toc": {
   "base_numbering": 1,
   "nav_menu": {},
   "number_sections": true,
   "sideBar": true,
   "skip_h1_title": false,
   "title_cell": "Table of Contents",
   "title_sidebar": "Contents",
   "toc_cell": true,
   "toc_position": {},
   "toc_section_display": true,
   "toc_window_display": false
  }
 },
 "nbformat": 4,
 "nbformat_minor": 4
}
