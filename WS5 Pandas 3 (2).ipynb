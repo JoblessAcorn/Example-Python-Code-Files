{
 "cells": [
  {
   "cell_type": "markdown",
   "metadata": {
    "toc": true
   },
   "source": [
    "<h1>Table of Contents<span class=\"tocSkip\"></span></h1>\n",
    "<div class=\"toc\"><ul class=\"toc-item\"></ul></div>"
   ]
  },
  {
   "cell_type": "markdown",
   "metadata": {},
   "source": [
    "<font size=6>Foundations of Biomedical Computing</font>"
   ]
  },
  {
   "cell_type": "markdown",
   "metadata": {},
   "source": [
    "<font size=5>Worksheet #5 - Operating on Missing Data in Pandas</font>"
   ]
  },
  {
   "cell_type": "markdown",
   "metadata": {},
   "source": [
    "The focus of this assignment will be dealing with missing data using Pandas. Often times in the real world we will be presented with missing data due to various causes, and being able to deal with this is an extremely important skill to hold."
   ]
  },
  {
   "cell_type": "markdown",
   "metadata": {},
   "source": [
    "___"
   ]
  },
  {
   "cell_type": "code",
   "execution_count": 1,
   "metadata": {
    "tags": []
   },
   "outputs": [],
   "source": [
    "import numpy as np\n",
    "import pandas as pd"
   ]
  },
  {
   "cell_type": "markdown",
   "metadata": {},
   "source": [
    "___"
   ]
  },
  {
   "cell_type": "markdown",
   "metadata": {},
   "source": [
    "Before you start cleaning a data set, it’s a good idea to just get a general feel for the data. After that, you can put together a plan to clean the data.\n",
    "<br>\n",
    "I like to start by asking the following questions:\n",
    "- What are the features?\n",
    "- What are the expected types (int, float, string, boolean)?\n",
    "- Is there obvious missing data (values that Pandas can detect)?\n",
    "- Are there other types of missing data that are not so obvious (can’t easily detect with Pandas)?\n",
    "[//]: # (Hello)\n",
    "\n",
    "A good way to get a quick feel for the data is to take a look at the first few rows. The `df.head()` command is an excellent way to do this.  Run the following code block to load a data file and examine its structure."
   ]
  },
  {
   "cell_type": "markdown",
   "metadata": {},
   "source": [
    "___"
   ]
  },
  {
   "cell_type": "markdown",
   "metadata": {},
   "source": [
    "Here is a real dataset of diabetes data from the Pima Indians indigenous to Arizona and Mexico. This dataset has 9 variables (8 input and 1 output) and is a fairly standard binary classification problem. It is often used for teaching. The variables are as follows: (number refers to column)\n",
    "\n",
    "0. Number of times pregnant.\n",
    "1. Plasma glucose concentration a 2 hours in an oral glucose tolerance test.\n",
    "2. Diastolic blood pressure (mm Hg).\n",
    "3. Triceps skinfold thickness (mm).\n",
    "4. 2-Hour serum insulin (mu U/ml).\n",
    "5. Body mass index (weight in kg/(height in m)^2).\n",
    "6. Diabetes pedigree function.\n",
    "7. Age (years).\n",
    "8. Class variable (0 or 1)."
   ]
  },
  {
   "cell_type": "code",
   "execution_count": 19,
   "metadata": {
    "tags": []
   },
   "outputs": [],
   "source": [
    "diabetes_data = pd.read_csv('pima-indians-diabetes.csv', header=None)\n",
    "new_column_names = {\n",
    "    0: 'Number of times pregnant',\n",
    "    1: 'Plasma glucose concentration',\n",
    "    2: 'Diastolic blood pressure (mm Hg)',\n",
    "    3: 'Triceps skinfold thickness (mm)',\n",
    "    4: '2-Hour serum insulin (mu U/ml)',\n",
    "    5: 'Body mass index',\n",
    "    6: 'Diabetes pedigree function',\n",
    "    7: 'Age (years)',\n",
    "    8: 'Class variable (0 or 1)'\n",
    "}\n",
    "diabetes_data = diabetes_data.rename(columns=new_column_names)"
   ]
  },
  {
   "cell_type": "markdown",
   "metadata": {},
   "source": [
    "1\\. Give a summary of the data:\n",
    "- Print the first couple of rows\n",
    "- How many total data points are in the dataset? (Hint: df.shape)\n",
    "- What do you notice about the data?"
   ]
  },
  {
   "cell_type": "code",
   "execution_count": 21,
   "metadata": {
    "tags": []
   },
   "outputs": [
    {
     "name": "stdout",
     "output_type": "stream",
     "text": [
      "       Number of times pregnant  Plasma glucose concentration  \\\n",
      "count                768.000000                    768.000000   \n",
      "mean                   3.845052                    120.894531   \n",
      "std                    3.369578                     31.972618   \n",
      "min                    0.000000                      0.000000   \n",
      "25%                    1.000000                     99.000000   \n",
      "50%                    3.000000                    117.000000   \n",
      "75%                    6.000000                    140.250000   \n",
      "max                   17.000000                    199.000000   \n",
      "\n",
      "       Diastolic blood pressure (mm Hg)  Triceps skinfold thickness (mm)  \\\n",
      "count                        768.000000                       768.000000   \n",
      "mean                          69.105469                        20.536458   \n",
      "std                           19.355807                        15.952218   \n",
      "min                            0.000000                         0.000000   \n",
      "25%                           62.000000                         0.000000   \n",
      "50%                           72.000000                        23.000000   \n",
      "75%                           80.000000                        32.000000   \n",
      "max                          122.000000                        99.000000   \n",
      "\n",
      "       2-Hour serum insulin (mu U/ml)  Body mass index  \\\n",
      "count                      768.000000       768.000000   \n",
      "mean                        79.799479        31.992578   \n",
      "std                        115.244002         7.884160   \n",
      "min                          0.000000         0.000000   \n",
      "25%                          0.000000        27.300000   \n",
      "50%                         30.500000        32.000000   \n",
      "75%                        127.250000        36.600000   \n",
      "max                        846.000000        67.100000   \n",
      "\n",
      "       Diabetes pedigree function  Age (years)  Class variable (0 or 1)  \n",
      "count                  768.000000   768.000000               768.000000  \n",
      "mean                     0.471876    33.240885                 0.348958  \n",
      "std                      0.331329    11.760232                 0.476951  \n",
      "min                      0.078000    21.000000                 0.000000  \n",
      "25%                      0.243750    24.000000                 0.000000  \n",
      "50%                      0.372500    29.000000                 0.000000  \n",
      "75%                      0.626250    41.000000                 1.000000  \n",
      "max                      2.420000    81.000000                 1.000000  \n",
      "(768, 9)\n",
      "6912\n"
     ]
    },
    {
     "data": {
      "text/html": [
       "<div>\n",
       "<style scoped>\n",
       "    .dataframe tbody tr th:only-of-type {\n",
       "        vertical-align: middle;\n",
       "    }\n",
       "\n",
       "    .dataframe tbody tr th {\n",
       "        vertical-align: top;\n",
       "    }\n",
       "\n",
       "    .dataframe thead th {\n",
       "        text-align: right;\n",
       "    }\n",
       "</style>\n",
       "<table border=\"1\" class=\"dataframe\">\n",
       "  <thead>\n",
       "    <tr style=\"text-align: right;\">\n",
       "      <th></th>\n",
       "      <th>Number of times pregnant</th>\n",
       "      <th>Plasma glucose concentration</th>\n",
       "      <th>Diastolic blood pressure (mm Hg)</th>\n",
       "      <th>Triceps skinfold thickness (mm)</th>\n",
       "      <th>2-Hour serum insulin (mu U/ml)</th>\n",
       "      <th>Body mass index</th>\n",
       "      <th>Diabetes pedigree function</th>\n",
       "      <th>Age (years)</th>\n",
       "      <th>Class variable (0 or 1)</th>\n",
       "    </tr>\n",
       "  </thead>\n",
       "  <tbody>\n",
       "    <tr>\n",
       "      <th>0</th>\n",
       "      <td>6</td>\n",
       "      <td>148</td>\n",
       "      <td>72</td>\n",
       "      <td>35</td>\n",
       "      <td>0</td>\n",
       "      <td>33.6</td>\n",
       "      <td>0.627</td>\n",
       "      <td>50</td>\n",
       "      <td>1</td>\n",
       "    </tr>\n",
       "    <tr>\n",
       "      <th>1</th>\n",
       "      <td>1</td>\n",
       "      <td>85</td>\n",
       "      <td>66</td>\n",
       "      <td>29</td>\n",
       "      <td>0</td>\n",
       "      <td>26.6</td>\n",
       "      <td>0.351</td>\n",
       "      <td>31</td>\n",
       "      <td>0</td>\n",
       "    </tr>\n",
       "    <tr>\n",
       "      <th>2</th>\n",
       "      <td>8</td>\n",
       "      <td>183</td>\n",
       "      <td>64</td>\n",
       "      <td>0</td>\n",
       "      <td>0</td>\n",
       "      <td>23.3</td>\n",
       "      <td>0.672</td>\n",
       "      <td>32</td>\n",
       "      <td>1</td>\n",
       "    </tr>\n",
       "    <tr>\n",
       "      <th>3</th>\n",
       "      <td>1</td>\n",
       "      <td>89</td>\n",
       "      <td>66</td>\n",
       "      <td>23</td>\n",
       "      <td>94</td>\n",
       "      <td>28.1</td>\n",
       "      <td>0.167</td>\n",
       "      <td>21</td>\n",
       "      <td>0</td>\n",
       "    </tr>\n",
       "    <tr>\n",
       "      <th>4</th>\n",
       "      <td>0</td>\n",
       "      <td>137</td>\n",
       "      <td>40</td>\n",
       "      <td>35</td>\n",
       "      <td>168</td>\n",
       "      <td>43.1</td>\n",
       "      <td>2.288</td>\n",
       "      <td>33</td>\n",
       "      <td>1</td>\n",
       "    </tr>\n",
       "  </tbody>\n",
       "</table>\n",
       "</div>"
      ],
      "text/plain": [
       "   Number of times pregnant  Plasma glucose concentration  \\\n",
       "0                         6                           148   \n",
       "1                         1                            85   \n",
       "2                         8                           183   \n",
       "3                         1                            89   \n",
       "4                         0                           137   \n",
       "\n",
       "   Diastolic blood pressure (mm Hg)  Triceps skinfold thickness (mm)  \\\n",
       "0                                72                               35   \n",
       "1                                66                               29   \n",
       "2                                64                                0   \n",
       "3                                66                               23   \n",
       "4                                40                               35   \n",
       "\n",
       "   2-Hour serum insulin (mu U/ml)  Body mass index  \\\n",
       "0                               0             33.6   \n",
       "1                               0             26.6   \n",
       "2                               0             23.3   \n",
       "3                              94             28.1   \n",
       "4                             168             43.1   \n",
       "\n",
       "   Diabetes pedigree function  Age (years)  Class variable (0 or 1)  \n",
       "0                       0.627           50                        1  \n",
       "1                       0.351           31                        0  \n",
       "2                       0.672           32                        1  \n",
       "3                       0.167           21                        0  \n",
       "4                       2.288           33                        1  "
      ]
     },
     "execution_count": 21,
     "metadata": {},
     "output_type": "execute_result"
    }
   ],
   "source": [
    "\n",
    "print(diabetes_data.describe())\n",
    "print(diabetes_data.shape)\n",
    "product = 768 * 9\n",
    "print(product)\n",
    "diabetes_data.head()\n",
    "# there are 6,912 data points in this dataframe\n",
    "# all of the data are intergers except couloumns 5 and 6"
   ]
  },
  {
   "cell_type": "markdown",
   "metadata": {},
   "source": [
    "We can clearly tell that having a recorded of value of 0 for any of the variables (except columns 0 & 8) is definitely wrong.\n",
    "<br>\n",
    "<br>\n",
    "2\\. Knowing this, find the number of missing (ie equal to 0) data points in columns 1, 2, 3, 4, 5, 6, 7\n"
   ]
  },
  {
   "cell_type": "code",
   "execution_count": 25,
   "metadata": {
    "tags": []
   },
   "outputs": [
    {
     "name": "stdout",
     "output_type": "stream",
     "text": [
      "Plasma glucose concentration          5\n",
      "Diastolic blood pressure (mm Hg)     35\n",
      "Triceps skinfold thickness (mm)     227\n",
      "2-Hour serum insulin (mu U/ml)      374\n",
      "Body mass index                      11\n",
      "Diabetes pedigree function            0\n",
      "Age (years)                           0\n",
      "dtype: int64\n"
     ]
    }
   ],
   "source": [
    "columns_of_interest =['Plasma glucose concentration','Diastolic blood pressure (mm Hg)','Triceps skinfold thickness (mm)','2-Hour serum insulin (mu U/ml)','Body mass index','Diabetes pedigree function','Age (years)']\n",
    "zeros_sum = diabetes_data[columns_of_interest].eq(0).sum()\n",
    "print(zeros_sum)"
   ]
  },
  {
   "cell_type": "markdown",
   "metadata": {},
   "source": [
    "Using the information gained from from the previous question, we know that columns 1, 2, 5, 6, 7, are all relatively good. However, we see that columns 3 and 4 show a lot more missing data accounting for nearly half of the rows.\n",
    "<br>\n",
    "<br>\n",
    "3\\. Now knowing this, replace the zero values in columns 1, 2, 3, 4, 5, 6, 7 with `NaN`"
   ]
  },
  {
   "cell_type": "code",
   "execution_count": 27,
   "metadata": {
    "tags": []
   },
   "outputs": [
    {
     "data": {
      "text/html": [
       "<div>\n",
       "<style scoped>\n",
       "    .dataframe tbody tr th:only-of-type {\n",
       "        vertical-align: middle;\n",
       "    }\n",
       "\n",
       "    .dataframe tbody tr th {\n",
       "        vertical-align: top;\n",
       "    }\n",
       "\n",
       "    .dataframe thead th {\n",
       "        text-align: right;\n",
       "    }\n",
       "</style>\n",
       "<table border=\"1\" class=\"dataframe\">\n",
       "  <thead>\n",
       "    <tr style=\"text-align: right;\">\n",
       "      <th></th>\n",
       "      <th>Number of times pregnant</th>\n",
       "      <th>Plasma glucose concentration</th>\n",
       "      <th>Diastolic blood pressure (mm Hg)</th>\n",
       "      <th>Triceps skinfold thickness (mm)</th>\n",
       "      <th>2-Hour serum insulin (mu U/ml)</th>\n",
       "      <th>Body mass index</th>\n",
       "      <th>Diabetes pedigree function</th>\n",
       "      <th>Age (years)</th>\n",
       "      <th>Class variable (0 or 1)</th>\n",
       "    </tr>\n",
       "  </thead>\n",
       "  <tbody>\n",
       "    <tr>\n",
       "      <th>0</th>\n",
       "      <td>6</td>\n",
       "      <td>148.0</td>\n",
       "      <td>72.0</td>\n",
       "      <td>35.0</td>\n",
       "      <td>NaN</td>\n",
       "      <td>33.6</td>\n",
       "      <td>0.627</td>\n",
       "      <td>50</td>\n",
       "      <td>1</td>\n",
       "    </tr>\n",
       "    <tr>\n",
       "      <th>1</th>\n",
       "      <td>1</td>\n",
       "      <td>85.0</td>\n",
       "      <td>66.0</td>\n",
       "      <td>29.0</td>\n",
       "      <td>NaN</td>\n",
       "      <td>26.6</td>\n",
       "      <td>0.351</td>\n",
       "      <td>31</td>\n",
       "      <td>0</td>\n",
       "    </tr>\n",
       "    <tr>\n",
       "      <th>2</th>\n",
       "      <td>8</td>\n",
       "      <td>183.0</td>\n",
       "      <td>64.0</td>\n",
       "      <td>NaN</td>\n",
       "      <td>NaN</td>\n",
       "      <td>23.3</td>\n",
       "      <td>0.672</td>\n",
       "      <td>32</td>\n",
       "      <td>1</td>\n",
       "    </tr>\n",
       "    <tr>\n",
       "      <th>3</th>\n",
       "      <td>1</td>\n",
       "      <td>89.0</td>\n",
       "      <td>66.0</td>\n",
       "      <td>23.0</td>\n",
       "      <td>94.0</td>\n",
       "      <td>28.1</td>\n",
       "      <td>0.167</td>\n",
       "      <td>21</td>\n",
       "      <td>0</td>\n",
       "    </tr>\n",
       "    <tr>\n",
       "      <th>4</th>\n",
       "      <td>0</td>\n",
       "      <td>137.0</td>\n",
       "      <td>40.0</td>\n",
       "      <td>35.0</td>\n",
       "      <td>168.0</td>\n",
       "      <td>43.1</td>\n",
       "      <td>2.288</td>\n",
       "      <td>33</td>\n",
       "      <td>1</td>\n",
       "    </tr>\n",
       "  </tbody>\n",
       "</table>\n",
       "</div>"
      ],
      "text/plain": [
       "   Number of times pregnant  Plasma glucose concentration  \\\n",
       "0                         6                         148.0   \n",
       "1                         1                          85.0   \n",
       "2                         8                         183.0   \n",
       "3                         1                          89.0   \n",
       "4                         0                         137.0   \n",
       "\n",
       "   Diastolic blood pressure (mm Hg)  Triceps skinfold thickness (mm)  \\\n",
       "0                              72.0                             35.0   \n",
       "1                              66.0                             29.0   \n",
       "2                              64.0                              NaN   \n",
       "3                              66.0                             23.0   \n",
       "4                              40.0                             35.0   \n",
       "\n",
       "   2-Hour serum insulin (mu U/ml)  Body mass index  \\\n",
       "0                             NaN             33.6   \n",
       "1                             NaN             26.6   \n",
       "2                             NaN             23.3   \n",
       "3                            94.0             28.1   \n",
       "4                           168.0             43.1   \n",
       "\n",
       "   Diabetes pedigree function  Age (years)  Class variable (0 or 1)  \n",
       "0                       0.627           50                        1  \n",
       "1                       0.351           31                        0  \n",
       "2                       0.672           32                        1  \n",
       "3                       0.167           21                        0  \n",
       "4                       2.288           33                        1  "
      ]
     },
     "execution_count": 27,
     "metadata": {},
     "output_type": "execute_result"
    }
   ],
   "source": [
    "diabetes_data[columns_of_interest] = diabetes_data[columns_of_interest].replace(0, np.nan)\n",
    "diabetes_data.head()"
   ]
  },
  {
   "cell_type": "markdown",
   "metadata": {},
   "source": [
    "As most algorithms don't do well with missing data, the simplest strategy is to remove records that contain a missing value.\n",
    "<br>\n",
    "<br>\n",
    "8\\. Using the methods detailed above, drop all records with missing data"
   ]
  },
  {
   "cell_type": "code",
   "execution_count": 28,
   "metadata": {
    "tags": []
   },
   "outputs": [
    {
     "data": {
      "text/html": [
       "<div>\n",
       "<style scoped>\n",
       "    .dataframe tbody tr th:only-of-type {\n",
       "        vertical-align: middle;\n",
       "    }\n",
       "\n",
       "    .dataframe tbody tr th {\n",
       "        vertical-align: top;\n",
       "    }\n",
       "\n",
       "    .dataframe thead th {\n",
       "        text-align: right;\n",
       "    }\n",
       "</style>\n",
       "<table border=\"1\" class=\"dataframe\">\n",
       "  <thead>\n",
       "    <tr style=\"text-align: right;\">\n",
       "      <th></th>\n",
       "      <th>Number of times pregnant</th>\n",
       "      <th>Plasma glucose concentration</th>\n",
       "      <th>Diastolic blood pressure (mm Hg)</th>\n",
       "      <th>Triceps skinfold thickness (mm)</th>\n",
       "      <th>2-Hour serum insulin (mu U/ml)</th>\n",
       "      <th>Body mass index</th>\n",
       "      <th>Diabetes pedigree function</th>\n",
       "      <th>Age (years)</th>\n",
       "      <th>Class variable (0 or 1)</th>\n",
       "    </tr>\n",
       "  </thead>\n",
       "  <tbody>\n",
       "    <tr>\n",
       "      <th>3</th>\n",
       "      <td>1</td>\n",
       "      <td>89.0</td>\n",
       "      <td>66.0</td>\n",
       "      <td>23.0</td>\n",
       "      <td>94.0</td>\n",
       "      <td>28.1</td>\n",
       "      <td>0.167</td>\n",
       "      <td>21</td>\n",
       "      <td>0</td>\n",
       "    </tr>\n",
       "    <tr>\n",
       "      <th>4</th>\n",
       "      <td>0</td>\n",
       "      <td>137.0</td>\n",
       "      <td>40.0</td>\n",
       "      <td>35.0</td>\n",
       "      <td>168.0</td>\n",
       "      <td>43.1</td>\n",
       "      <td>2.288</td>\n",
       "      <td>33</td>\n",
       "      <td>1</td>\n",
       "    </tr>\n",
       "    <tr>\n",
       "      <th>6</th>\n",
       "      <td>3</td>\n",
       "      <td>78.0</td>\n",
       "      <td>50.0</td>\n",
       "      <td>32.0</td>\n",
       "      <td>88.0</td>\n",
       "      <td>31.0</td>\n",
       "      <td>0.248</td>\n",
       "      <td>26</td>\n",
       "      <td>1</td>\n",
       "    </tr>\n",
       "    <tr>\n",
       "      <th>8</th>\n",
       "      <td>2</td>\n",
       "      <td>197.0</td>\n",
       "      <td>70.0</td>\n",
       "      <td>45.0</td>\n",
       "      <td>543.0</td>\n",
       "      <td>30.5</td>\n",
       "      <td>0.158</td>\n",
       "      <td>53</td>\n",
       "      <td>1</td>\n",
       "    </tr>\n",
       "    <tr>\n",
       "      <th>13</th>\n",
       "      <td>1</td>\n",
       "      <td>189.0</td>\n",
       "      <td>60.0</td>\n",
       "      <td>23.0</td>\n",
       "      <td>846.0</td>\n",
       "      <td>30.1</td>\n",
       "      <td>0.398</td>\n",
       "      <td>59</td>\n",
       "      <td>1</td>\n",
       "    </tr>\n",
       "  </tbody>\n",
       "</table>\n",
       "</div>"
      ],
      "text/plain": [
       "    Number of times pregnant  Plasma glucose concentration  \\\n",
       "3                          1                          89.0   \n",
       "4                          0                         137.0   \n",
       "6                          3                          78.0   \n",
       "8                          2                         197.0   \n",
       "13                         1                         189.0   \n",
       "\n",
       "    Diastolic blood pressure (mm Hg)  Triceps skinfold thickness (mm)  \\\n",
       "3                               66.0                             23.0   \n",
       "4                               40.0                             35.0   \n",
       "6                               50.0                             32.0   \n",
       "8                               70.0                             45.0   \n",
       "13                              60.0                             23.0   \n",
       "\n",
       "    2-Hour serum insulin (mu U/ml)  Body mass index  \\\n",
       "3                             94.0             28.1   \n",
       "4                            168.0             43.1   \n",
       "6                             88.0             31.0   \n",
       "8                            543.0             30.5   \n",
       "13                           846.0             30.1   \n",
       "\n",
       "    Diabetes pedigree function  Age (years)  Class variable (0 or 1)  \n",
       "3                        0.167           21                        0  \n",
       "4                        2.288           33                        1  \n",
       "6                        0.248           26                        1  \n",
       "8                        0.158           53                        1  \n",
       "13                       0.398           59                        1  "
      ]
     },
     "execution_count": 28,
     "metadata": {},
     "output_type": "execute_result"
    }
   ],
   "source": [
    "new_diabetes_data = diabetes_data.dropna()\n",
    "new_diabetes_data.head()"
   ]
  },
  {
   "cell_type": "markdown",
   "metadata": {},
   "source": [
    "___"
   ]
  },
  {
   "cell_type": "markdown",
   "metadata": {},
   "source": [
    "Often times simply removing data points with missing entries is not something we can afford to do. However in many cases we can use what we already know about the data to impute the missing data using some statistical tricks.\n",
    "<br>\n",
    "<br>\n"
   ]
  },
  {
   "cell_type": "markdown",
   "metadata": {},
   "source": [
    "We cannot afford to loose around 50% of our diabetes data due to missing values. Thus how about we try to fill in the missing data?\n",
    "<br>\n",
    "<br>\n",
    "10\\. Fill in the following data for the diabetes data set:\n",
    "- Fill in variable 3 (Triceps skinfold thickness (mm)) with the mean\n",
    "- Fill in variable 4 (2-Hour serum insulin (mu U/ml)) with the median"
   ]
  },
  {
   "cell_type": "code",
   "execution_count": 31,
   "metadata": {
    "tags": []
   },
   "outputs": [
    {
     "name": "stdout",
     "output_type": "stream",
     "text": [
      "29.15341959334565\n",
      "125.0\n"
     ]
    },
    {
     "data": {
      "text/html": [
       "<div>\n",
       "<style scoped>\n",
       "    .dataframe tbody tr th:only-of-type {\n",
       "        vertical-align: middle;\n",
       "    }\n",
       "\n",
       "    .dataframe tbody tr th {\n",
       "        vertical-align: top;\n",
       "    }\n",
       "\n",
       "    .dataframe thead th {\n",
       "        text-align: right;\n",
       "    }\n",
       "</style>\n",
       "<table border=\"1\" class=\"dataframe\">\n",
       "  <thead>\n",
       "    <tr style=\"text-align: right;\">\n",
       "      <th></th>\n",
       "      <th>Number of times pregnant</th>\n",
       "      <th>Plasma glucose concentration</th>\n",
       "      <th>Diastolic blood pressure (mm Hg)</th>\n",
       "      <th>Triceps skinfold thickness (mm)</th>\n",
       "      <th>2-Hour serum insulin (mu U/ml)</th>\n",
       "      <th>Body mass index</th>\n",
       "      <th>Diabetes pedigree function</th>\n",
       "      <th>Age (years)</th>\n",
       "      <th>Class variable (0 or 1)</th>\n",
       "    </tr>\n",
       "  </thead>\n",
       "  <tbody>\n",
       "    <tr>\n",
       "      <th>0</th>\n",
       "      <td>6</td>\n",
       "      <td>148.0</td>\n",
       "      <td>72.0</td>\n",
       "      <td>35.00000</td>\n",
       "      <td>125.0</td>\n",
       "      <td>33.6</td>\n",
       "      <td>0.627</td>\n",
       "      <td>50</td>\n",
       "      <td>1</td>\n",
       "    </tr>\n",
       "    <tr>\n",
       "      <th>1</th>\n",
       "      <td>1</td>\n",
       "      <td>85.0</td>\n",
       "      <td>66.0</td>\n",
       "      <td>29.00000</td>\n",
       "      <td>125.0</td>\n",
       "      <td>26.6</td>\n",
       "      <td>0.351</td>\n",
       "      <td>31</td>\n",
       "      <td>0</td>\n",
       "    </tr>\n",
       "    <tr>\n",
       "      <th>2</th>\n",
       "      <td>8</td>\n",
       "      <td>183.0</td>\n",
       "      <td>64.0</td>\n",
       "      <td>29.15342</td>\n",
       "      <td>125.0</td>\n",
       "      <td>23.3</td>\n",
       "      <td>0.672</td>\n",
       "      <td>32</td>\n",
       "      <td>1</td>\n",
       "    </tr>\n",
       "    <tr>\n",
       "      <th>3</th>\n",
       "      <td>1</td>\n",
       "      <td>89.0</td>\n",
       "      <td>66.0</td>\n",
       "      <td>23.00000</td>\n",
       "      <td>94.0</td>\n",
       "      <td>28.1</td>\n",
       "      <td>0.167</td>\n",
       "      <td>21</td>\n",
       "      <td>0</td>\n",
       "    </tr>\n",
       "    <tr>\n",
       "      <th>4</th>\n",
       "      <td>0</td>\n",
       "      <td>137.0</td>\n",
       "      <td>40.0</td>\n",
       "      <td>35.00000</td>\n",
       "      <td>168.0</td>\n",
       "      <td>43.1</td>\n",
       "      <td>2.288</td>\n",
       "      <td>33</td>\n",
       "      <td>1</td>\n",
       "    </tr>\n",
       "  </tbody>\n",
       "</table>\n",
       "</div>"
      ],
      "text/plain": [
       "   Number of times pregnant  Plasma glucose concentration  \\\n",
       "0                         6                         148.0   \n",
       "1                         1                          85.0   \n",
       "2                         8                         183.0   \n",
       "3                         1                          89.0   \n",
       "4                         0                         137.0   \n",
       "\n",
       "   Diastolic blood pressure (mm Hg)  Triceps skinfold thickness (mm)  \\\n",
       "0                              72.0                         35.00000   \n",
       "1                              66.0                         29.00000   \n",
       "2                              64.0                         29.15342   \n",
       "3                              66.0                         23.00000   \n",
       "4                              40.0                         35.00000   \n",
       "\n",
       "   2-Hour serum insulin (mu U/ml)  Body mass index  \\\n",
       "0                           125.0             33.6   \n",
       "1                           125.0             26.6   \n",
       "2                           125.0             23.3   \n",
       "3                            94.0             28.1   \n",
       "4                           168.0             43.1   \n",
       "\n",
       "   Diabetes pedigree function  Age (years)  Class variable (0 or 1)  \n",
       "0                       0.627           50                        1  \n",
       "1                       0.351           31                        0  \n",
       "2                       0.672           32                        1  \n",
       "3                       0.167           21                        0  \n",
       "4                       2.288           33                        1  "
      ]
     },
     "execution_count": 31,
     "metadata": {},
     "output_type": "execute_result"
    }
   ],
   "source": [
    "mean_triceps_skinfold_thickness = diabetes_data['Triceps skinfold thickness (mm)'].mean()\n",
    "median_serum_insulin = diabetes_data['2-Hour serum insulin (mu U/ml)'].median()\n",
    "diabetes_data['Triceps skinfold thickness (mm)'].fillna(mean_triceps_skinfold_thickness, inplace=True)\n",
    "diabetes_data['2-Hour serum insulin (mu U/ml)'].fillna(median_serum_insulin, inplace=True)\n",
    "print(diabetes_data['Triceps skinfold thickness (mm)'].mean())\n",
    "print(diabetes_data['2-Hour serum insulin (mu U/ml)'].median())\n",
    "diabetes_data.head()"
   ]
  },
  {
   "cell_type": "markdown",
   "metadata": {},
   "source": [
    "___"
   ]
  },
  {
   "cell_type": "markdown",
   "metadata": {},
   "source": [
    "11\\. If you have any additional questions, comments, or concerns, please state them below and we will do our best to address them"
   ]
  },
  {
   "cell_type": "code",
   "execution_count": null,
   "metadata": {},
   "outputs": [],
   "source": []
  }
 ],
 "metadata": {
  "kernelspec": {
   "display_name": "Python 3 (ipykernel)",
   "language": "python",
   "name": "python3"
  },
  "language_info": {
   "codemirror_mode": {
    "name": "ipython",
    "version": 3
   },
   "file_extension": ".py",
   "mimetype": "text/x-python",
   "name": "python",
   "nbconvert_exporter": "python",
   "pygments_lexer": "ipython3",
   "version": "3.11.5"
  },
  "toc": {
   "base_numbering": 1,
   "nav_menu": {},
   "number_sections": true,
   "sideBar": true,
   "skip_h1_title": false,
   "title_cell": "Table of Contents",
   "title_sidebar": "Contents",
   "toc_cell": true,
   "toc_position": {},
   "toc_section_display": true,
   "toc_window_display": false
  }
 },
 "nbformat": 4,
 "nbformat_minor": 4
}
